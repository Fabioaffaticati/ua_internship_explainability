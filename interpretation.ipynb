{
 "cells": [
  {
   "cell_type": "markdown",
   "metadata": {},
   "source": [
    "# Model interpretability study on ImRex"
   ]
  },
  {
   "cell_type": "markdown",
   "metadata": {},
   "source": [
    "## Libraries import"
   ]
  },
  {
   "cell_type": "code",
   "execution_count": 1,
   "metadata": {},
   "outputs": [],
   "source": [
    "%matplotlib inline \n",
    "\n",
    "# base libraries\n",
    "import matplotlib\n",
    "import matplotlib.pyplot as plt\n",
    "import matplotlib.pylab as P\n",
    "import numpy as np\n",
    "import tensorflow as tf\n",
    "import pandas as pd\n",
    "\n",
    "# misc\n",
    "import json as js\n",
    "import PIL.Image\n",
    "import saliency.core as saliency\n",
    "from sklearn import preprocessing\n",
    "import os\n",
    "import pickle as pkl\n",
    "\n",
    "# bio data management\n",
    "from Bio.PDB import PDBParser, Selection\n",
    "from Bio.Data.IUPACData import protein_letters_3to1\n",
    "from Bio import Align\n",
    "\n",
    "# web scraping soup\n",
    "from bs4 import BeautifulSoup\n",
    "import requests\n",
    "import urllib.request \n",
    "\n",
    "# web scraping selenium\n",
    "from selenium import webdriver\n",
    "from selenium.webdriver.support.ui import WebDriverWait       \n",
    "from selenium.webdriver.common.by import By       \n",
    "from selenium.webdriver.support import expected_conditions as EC\n",
    "import time\n",
    "import os\n",
    "from zipfile import ZipFile\n",
    "\n",
    "# ttest\n",
    "import scipy.stats"
   ]
  },
  {
   "cell_type": "markdown",
   "metadata": {},
   "source": [
    "#### Run the model to generate the predictions"
   ]
  },
  {
   "cell_type": "code",
   "execution_count": 2,
   "metadata": {
    "scrolled": true
   },
   "outputs": [
    {
     "name": "stdout",
     "output_type": "stream",
     "text": [
      "2021-08-15 22:25:44,821 - root - INFO - CLI argument batch_size: 128\n",
      "2021-08-15 22:25:44,821 - root - INFO - CLI argument cdr3_column: 'cdr3'\n",
      "2021-08-15 22:25:44,821 - root - INFO - CLI argument epitope_column: 'antigen.epitope'\n",
      "2021-08-15 22:25:44,821 - root - INFO - CLI argument features: 'hydrophob,isoelectric,mass,hydrophil'\n",
      "2021-08-15 22:25:44,821 - root - INFO - CLI argument images_dir: '/Users/fabio_air/Desktop/ImRex-master/deepTCR/Images/'\n",
      "2021-08-15 22:25:44,821 - root - INFO - CLI argument input: '/Users/fabio_air/Desktop/ImRex-master/deepTCR/input-sequences.csv'\n",
      "2021-08-15 22:25:44,821 - root - INFO - CLI argument max_length_cdr3: 20\n",
      "2021-08-15 22:25:44,821 - root - INFO - CLI argument max_length_epitope: 11\n",
      "2021-08-15 22:25:44,821 - root - INFO - CLI argument min_length_cdr3: 10\n",
      "2021-08-15 22:25:44,821 - root - INFO - CLI argument min_length_epitope: 8\n",
      "2021-08-15 22:25:44,822 - root - INFO - CLI argument model: '/Users/fabio_air/Desktop/ImRex-master/models/pretrained/2020-07-24_19-18-39_trbmhcidown-shuffle-padded-b32-lre4-reg001/2020-07-24_19-18-39_trbmhcidown-shuffle-padded-b32-lre4-reg001.h5'\n",
      "2021-08-15 22:25:44,822 - root - INFO - CLI argument model_type: 'padded'\n",
      "2021-08-15 22:25:44,822 - root - INFO - CLI argument operator: 'absdiff'\n",
      "2021-08-15 22:25:44,822 - root - INFO - CLI argument output: '/Users/fabio_air/Desktop/ImRex-master/deepTCR/output-predictions.csv'\n",
      "2021-08-15 22:25:44,822 - root - INFO - CLI argument sep: ';'\n",
      "2021-08-15 22:25:44,829 - __main__ - INFO - features: [Hydrophobicity(), IsoelectricPoint(), Mass(), Hydrophilicity()]\n",
      "2021-08-15 22:25:44,829 - __main__ - INFO - operator: AbsDifferenceOperator()\n",
      "2021-08-15 22:25:44,829 - __main__ - INFO - Filtered CDR3 sequences to length: (10, 20)\n",
      "2021-08-15 22:25:44,829 - __main__ - INFO - Filtered epitope sequences to length: (8, 11)\n",
      "2021-08-15 22:25:45,666 - __main__ - INFO - Saved predictions in /Users/fabio_air/Desktop/ImRex-master/deepTCR/output-predictions.csv.\n"
     ]
    }
   ],
   "source": [
    "# Components of the command string:\n",
    "# 1) path to the ImRex's predict.py script \n",
    "# 2) --model followed by the path to the pretrained ImRex model\n",
    "# 3) --input followed by the path to the input sequences\n",
    "# 4) --ouput followed by the path where to save the output\n",
    "# 5) --images_dir followed by path to the directory where to save the generated property maps\n",
    "\n",
    " \n",
    "!python /Users/fabio_air/Desktop/ImRex-master/src/scripts/predict/predict.py --model /Users/fabio_air/Desktop/ImRex-master/models/pretrained/2020-07-24_19-18-39_trbmhcidown-shuffle-padded-b32-lre4-reg001/2020-07-24_19-18-39_trbmhcidown-shuffle-padded-b32-lre4-reg001.h5 --input /Users/fabio_air/Desktop/ImRex-master/deepTCR/input-sequences.csv --output /Users/fabio_air/Desktop/ImRex-master/deepTCR/output-predictions.csv --images_dir /Users/fabio_air/Desktop/ImRex-master/deepTCR/Images/\n"
   ]
  },
  {
   "cell_type": "code",
   "execution_count": 3,
   "metadata": {},
   "outputs": [],
   "source": [
    "# import of the model object and some directories\n",
    "model = tf.keras.models.load_model(\"/Users/fabio_air/Desktop/ImRex-master/models/pretrained/2020-07-24_19-18-39_trbmhcidown-shuffle-padded-b32-lre4-reg001/2020-07-24_19-18-39_trbmhcidown-shuffle-padded-b32-lre4-reg001.h5\")\n",
    "# directory where the generated property maps will the saved by predict.py\n",
    "img_path = '/Users/fabio_air/Desktop/ImRex-master/deepTCR/Images/'\n",
    "work_dir = '/Users/fabio_air/Desktop/ImRex-master/deepTCR/'"
   ]
  },
  {
   "cell_type": "code",
   "execution_count": 4,
   "metadata": {},
   "outputs": [
    {
     "data": {
      "text/plain": [
       "TensorShape([9, 20, 11, 4])"
      ]
     },
     "execution_count": 4,
     "metadata": {},
     "output_type": "execute_result"
    }
   ],
   "source": [
    "# load images saved with pickle during the execution predict.py\n",
    "pickles = []\n",
    "for f in sorted(os.listdir(img_path)):\n",
    "    try:\n",
    "        with open(img_path+f,'rb') as fil:\n",
    "            x = pkl.load(fil)\n",
    "            pickles.append(x)\n",
    "    except:\n",
    "        pass\n",
    "        \n",
    "pickles = tf.convert_to_tensor(pickles) # conversion to tensor of the list\n",
    "pickles = tf.cast(pickles, tf.float32) # cast to float\n",
    "pickles.shape # [number of images, 20, 11, 4]"
   ]
  },
  {
   "cell_type": "code",
   "execution_count": 5,
   "metadata": {},
   "outputs": [],
   "source": [
    "# function to determine the prediction for each image given by the model\n",
    "def predictions(img):\n",
    "    image_batch = tf.expand_dims(img, 0)\n",
    "    prob = model(image_batch)\n",
    "    prediction = tf.math.round(prob)\n",
    "    return prediction"
   ]
  },
  {
   "cell_type": "code",
   "execution_count": 6,
   "metadata": {},
   "outputs": [
    {
     "name": "stderr",
     "output_type": "stream",
     "text": [
      "Clipping input data to the valid range for imshow with RGB data ([0..1] for floats or [0..255] for integers).\n"
     ]
    },
    {
     "name": "stdout",
     "output_type": "stream",
     "text": [
      "Prediction: 1\n"
     ]
    },
    {
     "data": {
      "image/png": "[encoded data removed]",
      "text/plain": [
       "<Figure size 432x288 with 1 Axes>"
      ]
     },
     "metadata": {
      "needs_background": "light"
     },
     "output_type": "display_data"
    },
    {
     "name": "stdout",
     "output_type": "stream",
     "text": [
      "Prediction: 0\n"
     ]
    },
    {
     "name": "stderr",
     "output_type": "stream",
     "text": [
      "Clipping input data to the valid range for imshow with RGB data ([0..1] for floats or [0..255] for integers).\n"
     ]
    },
    {
     "data": {
      "image/png": "[encoded data removed]",
      "text/plain": [
       "<Figure size 432x288 with 1 Axes>"
      ]
     },
     "metadata": {
      "needs_background": "light"
     },
     "output_type": "display_data"
    },
    {
     "name": "stderr",
     "output_type": "stream",
     "text": [
      "Clipping input data to the valid range for imshow with RGB data ([0..1] for floats or [0..255] for integers).\n"
     ]
    },
    {
     "name": "stdout",
     "output_type": "stream",
     "text": [
      "Prediction: 1\n"
     ]
    },
    {
     "data": {
      "image/png": "[encoded data removed]",
      "text/plain": [
       "<Figure size 432x288 with 1 Axes>"
      ]
     },
     "metadata": {
      "needs_background": "light"
     },
     "output_type": "display_data"
    },
    {
     "name": "stdout",
     "output_type": "stream",
     "text": [
      "Prediction: 1\n"
     ]
    },
    {
     "name": "stderr",
     "output_type": "stream",
     "text": [
      "Clipping input data to the valid range for imshow with RGB data ([0..1] for floats or [0..255] for integers).\n"
     ]
    },
    {
     "data": {
      "image/png": "[encoded data removed]",
      "text/plain": [
       "<Figure size 432x288 with 1 Axes>"
      ]
     },
     "metadata": {
      "needs_background": "light"
     },
     "output_type": "display_data"
    },
    {
     "name": "stdout",
     "output_type": "stream",
     "text": [
      "Prediction: 1\n"
     ]
    },
    {
     "name": "stderr",
     "output_type": "stream",
     "text": [
      "Clipping input data to the valid range for imshow with RGB data ([0..1] for floats or [0..255] for integers).\n"
     ]
    },
    {
     "data": {
      "image/png": "[encoded data removed]",
      "text/plain": [
       "<Figure size 432x288 with 1 Axes>"
      ]
     },
     "metadata": {
      "needs_background": "light"
     },
     "output_type": "display_data"
    },
    {
     "name": "stderr",
     "output_type": "stream",
     "text": [
      "Clipping input data to the valid range for imshow with RGB data ([0..1] for floats or [0..255] for integers).\n"
     ]
    },
    {
     "name": "stdout",
     "output_type": "stream",
     "text": [
      "Prediction: 1\n"
     ]
    },
    {
     "data": {
      "image/png": "[encoded data removed]",
      "text/plain": [
       "<Figure size 432x288 with 1 Axes>"
      ]
     },
     "metadata": {
      "needs_background": "light"
     },
     "output_type": "display_data"
    },
    {
     "name": "stderr",
     "output_type": "stream",
     "text": [
      "Clipping input data to the valid range for imshow with RGB data ([0..1] for floats or [0..255] for integers).\n"
     ]
    },
    {
     "name": "stdout",
     "output_type": "stream",
     "text": [
      "Prediction: 1\n"
     ]
    },
    {
     "data": {
      "image/png": "[encoded data removed]",
      "text/plain": [
       "<Figure size 432x288 with 1 Axes>"
      ]
     },
     "metadata": {
      "needs_background": "light"
     },
     "output_type": "display_data"
    },
    {
     "name": "stderr",
     "output_type": "stream",
     "text": [
      "Clipping input data to the valid range for imshow with RGB data ([0..1] for floats or [0..255] for integers).\n"
     ]
    },
    {
     "name": "stdout",
     "output_type": "stream",
     "text": [
      "Prediction: 1\n"
     ]
    },
    {
     "data": {
      "image/png": "[encoded data removed]",
      "text/plain": [
       "<Figure size 432x288 with 1 Axes>"
      ]
     },
     "metadata": {
      "needs_background": "light"
     },
     "output_type": "display_data"
    },
    {
     "name": "stderr",
     "output_type": "stream",
     "text": [
      "Clipping input data to the valid range for imshow with RGB data ([0..1] for floats or [0..255] for integers).\n"
     ]
    },
    {
     "name": "stdout",
     "output_type": "stream",
     "text": [
      "Prediction: 0\n"
     ]
    },
    {
     "data": {
      "image/png": "[encoded data removed]",
      "text/plain": [
       "<Figure size 432x288 with 1 Axes>"
      ]
     },
     "metadata": {
      "needs_background": "light"
     },
     "output_type": "display_data"
    }
   ],
   "source": [
    "for p in pickles:\n",
    "    \n",
    "    prediction = predictions(p)\n",
    "    prediction = int(prediction.numpy())\n",
    "    print('Prediction: ' + str(prediction))\n",
    "    \n",
    "    plt.imshow(p)\n",
    "    plt.axis('off')\n",
    "    plt.show()"
   ]
  },
  {
   "cell_type": "markdown",
   "metadata": {},
   "source": [
    "## Integrated Gradients: from scratch implementation\n",
    "###### [From the TensorFlow documentation](https://www.tensorflow.org/tutorials/interpretability/integrated_gradients)"
   ]
  },
  {
   "cell_type": "markdown",
   "metadata": {},
   "source": [
    "Integrated Gradients aim to accumulate pixel local gradients and attribute its importance as a score for how much it adds or subtracts to your model's overall output class probability.\n",
    "\n",
    "Required steps:\n",
    "\n",
    "1) interpolate small steps along a straight line in the feature space between a baseline and the input pixel's value\n",
    "\n",
    "2) compute gradients at each step between the model's predictions with respect to each step\n",
    "\n",
    "3) approximate the integral between the baseline and input by accumulating these local gradients.\n",
    "\n",
    "\n",
    "A baseline is an input image used as a starting point for calculating feature importance (it represents the impact of the absence of each pixel prediction to contrast with its impact of each pixel on the prediction when present in the input image). The choice of the baseline has therefore high impact on the visualization of the feature's importance."
   ]
  },
  {
   "cell_type": "code",
   "execution_count": 7,
   "metadata": {},
   "outputs": [
    {
     "data": {
      "image/png": "[encoded data removed]",
      "text/plain": [
       "<Figure size 432x288 with 1 Axes>"
      ]
     },
     "metadata": {
      "needs_background": "light"
     },
     "output_type": "display_data"
    }
   ],
   "source": [
    "# definition of the baseline\n",
    "baseline = tf.zeros(shape=(20,11,4)) # Baseline for CMYK format. The picture is white in this 4-channel case\n",
    "                                     # It will stay the baseline for the remainder of the notebook\n",
    "plt.imshow(baseline)\n",
    "plt.title(\"Baseline\")\n",
    "plt.axis('off')\n",
    "plt.show()"
   ]
  },
  {
   "cell_type": "markdown",
   "metadata": {},
   "source": [
    "### Linear interpolation path between baseline and input images at alpha intervals"
   ]
  },
  {
   "cell_type": "code",
   "execution_count": 8,
   "metadata": {},
   "outputs": [],
   "source": [
    "m_steps=40 # number of interpolation steps chosen\n",
    "alphas = tf.linspace(start=0.0, stop=1.0, num=m_steps+1) # levels of transparency for each step"
   ]
  },
  {
   "cell_type": "code",
   "execution_count": 9,
   "metadata": {},
   "outputs": [],
   "source": [
    "# fuction to generate the linear interpolations\n",
    "def generate_path_inputs(baseline,\n",
    "                         input,\n",
    "                         alphas):\n",
    "  # Expand dimensions for vectorized computation of interpolations.\n",
    "    alphas_x = alphas[:, tf.newaxis, tf.newaxis, tf.newaxis]\n",
    "    baseline_x = tf.expand_dims(baseline, axis=0)\n",
    "    input_x = tf.expand_dims(input, axis=0) \n",
    "    delta = input_x - baseline_x\n",
    "    path_inputs = baseline_x +  alphas_x * delta\n",
    "  \n",
    "    return path_inputs"
   ]
  },
  {
   "cell_type": "code",
   "execution_count": 10,
   "metadata": {},
   "outputs": [
    {
     "data": {
      "text/plain": [
       "TensorShape([41, 20, 11, 4])"
      ]
     },
     "execution_count": 10,
     "metadata": {},
     "output_type": "execute_result"
    }
   ],
   "source": [
    "# generate the interpolated images\n",
    "path_inputs = generate_path_inputs(\n",
    "    baseline=baseline, \n",
    "    input=pickles[0],\n",
    "    alphas=alphas)\n",
    "\n",
    "path_inputs.shape # [number of steps + 1, 20, 11, 4]"
   ]
  },
  {
   "cell_type": "code",
   "execution_count": 11,
   "metadata": {},
   "outputs": [
    {
     "name": "stderr",
     "output_type": "stream",
     "text": [
      "Clipping input data to the valid range for imshow with RGB data ([0..1] for floats or [0..255] for integers).\n",
      "Clipping input data to the valid range for imshow with RGB data ([0..1] for floats or [0..255] for integers).\n"
     ]
    },
    {
     "data": {
      "image/png": "[encoded data removed]",
      "text/plain": [
       "<Figure size 1440x792 with 5 Axes>"
      ]
     },
     "metadata": {
      "needs_background": "light"
     },
     "output_type": "display_data"
    }
   ],
   "source": [
    "fig, axs = plt.subplots(nrows=1, ncols=5, squeeze=False, figsize=(20, 11))\n",
    "\n",
    "axs[0,0].set_title('Baseline \\n alpha: {:.2f}'.format(alphas[0]))\n",
    "axs[0,0].imshow(path_inputs[0])\n",
    "axs[0,0].axis('off')\n",
    "\n",
    "axs[0,1].set_title('Interpolated Image # 10 \\n alpha: {:.2f}'.format(alphas[10]))\n",
    "axs[0,1].imshow(path_inputs[10])\n",
    "axs[0,1].axis('off')\n",
    "\n",
    "axs[0,2].set_title('Interpolated Image # 20 \\n alpha: {:.2f}'.format(alphas[20]))\n",
    "axs[0,2].imshow(path_inputs[20])\n",
    "axs[0,2].axis('off')\n",
    "\n",
    "axs[0,3].set_title('Interpolated Image # 30 \\n alpha: {:.2f}'.format(alphas[30]))\n",
    "axs[0,3].imshow(path_inputs[30])\n",
    "axs[0,3].axis('off')\n",
    "\n",
    "axs[0,4].set_title('Input Image \\n alpha: {:.2f}'.format(alphas[-1]))\n",
    "axs[0,4].imshow(path_inputs[-1])\n",
    "axs[0,4].axis('off')\n",
    "\n",
    "plt.tight_layout()"
   ]
  },
  {
   "cell_type": "markdown",
   "metadata": {},
   "source": [
    "###  Gradients computation:\n",
    "#### Measures the relationship between changes to a feature and changes in the model's predictions, thus identifying which pixels have the strongest effect on the models predicted class probabilities."
   ]
  },
  {
   "cell_type": "code",
   "execution_count": 12,
   "metadata": {},
   "outputs": [],
   "source": [
    "# function to compute gradients\n",
    "import math\n",
    "def compute_gradients(model, path_inputs):\n",
    "\n",
    "    with tf.GradientTape() as tape:\n",
    "        tape.watch(path_inputs) # define on what to calculate the gradients\n",
    "        outputs = model(path_inputs)\n",
    "        \n",
    "    # gradients calculated between probabilities for the target class \n",
    "    # on each interpolated image with respect to each interpolated input\n",
    "    gradients = tape.gradient(outputs, path_inputs)\n",
    "    \n",
    "    return gradients"
   ]
  },
  {
   "cell_type": "code",
   "execution_count": 13,
   "metadata": {},
   "outputs": [
    {
     "data": {
      "text/plain": [
       "TensorShape([41, 20, 11, 4])"
      ]
     },
     "execution_count": 13,
     "metadata": {},
     "output_type": "execute_result"
    }
   ],
   "source": [
    "# Let's calculate the gradients for each image along the interpolation path with respect to the correct output\n",
    "path_gradients = compute_gradients(\n",
    "    model=model, \n",
    "    path_inputs=path_inputs)\n",
    "path_gradients.shape"
   ]
  },
  {
   "cell_type": "code",
   "execution_count": 14,
   "metadata": {},
   "outputs": [
    {
     "data": {
      "image/png": "[encoded data removed]",
      "text/plain": [
       "<Figure size 1440x792 with 10 Axes>"
      ]
     },
     "metadata": {
      "needs_background": "light"
     },
     "output_type": "display_data"
    }
   ],
   "source": [
    "# plot of some of the gradients calculated\n",
    "fig, axs = plt.subplots(nrows=1, ncols=10, squeeze=False, figsize=(20, 11))\n",
    "for i in range(10):\n",
    "    axs[0,i].imshow(tf.cast(255 * path_gradients[i*4], tf.uint8), cmap=plt.cm.viridis)\n",
    "    axs[0,i].axis('off')\n",
    "plt.tight_layout()"
   ]
  },
  {
   "cell_type": "markdown",
   "metadata": {},
   "source": [
    "### Integral approximation:\n",
    "#### Solves the problem of discontinuous gradient feature importances by taking small steps in the feature space to compute local gradients between predictions and inputs across the feature space and then averages these gradients together to produce feature attributions."
   ]
  },
  {
   "cell_type": "code",
   "execution_count": 15,
   "metadata": {},
   "outputs": [],
   "source": [
    "def integral_approximation(gradients, \n",
    "                           method='riemann_trapezoidal'):\n",
    "\n",
    "    # different ways to compute the numeric approximation with different tradeoffs\n",
    "    # riemann trapezoidal usually the most accurate\n",
    "    if method == 'riemann_trapezoidal':  \n",
    "        grads = (gradients[:-1] + gradients[1:]) / tf.constant(2.0)\n",
    "    elif method == 'riemann_left':\n",
    "        grads = gradients\n",
    "    elif method == 'riemann_midpoint':\n",
    "        grads = gradients\n",
    "    elif method == 'riemann_right':    \n",
    "        grads = gradients\n",
    "    else:\n",
    "        raise AssertionError(\"Provided Riemann approximation method is not valid.\")\n",
    "\n",
    "    # average integration approximation\n",
    "    integrated_gradients = tf.math.reduce_mean(grads, axis=0)\n",
    "\n",
    "\n",
    "    return integrated_gradients"
   ]
  },
  {
   "cell_type": "code",
   "execution_count": 16,
   "metadata": {},
   "outputs": [],
   "source": [
    "ig = integral_approximation(\n",
    "    gradients=path_gradients,\n",
    "    method='riemann_trapezoidal')"
   ]
  },
  {
   "cell_type": "markdown",
   "metadata": {},
   "source": [
    "### Attributions visualization"
   ]
  },
  {
   "cell_type": "code",
   "execution_count": 17,
   "metadata": {},
   "outputs": [],
   "source": [
    "def plot_img_attributions(baseline,\n",
    "                          image,\n",
    "                          cmap=None,\n",
    "                          overlay_alpha=0.4):\n",
    "\n",
    "    attributions = (image - baseline) * ig\n",
    "\n",
    "  # Sum of the attributions across color channels for visualization.\n",
    "  # The attribution mask shape is a grayscale image with height and width\n",
    "  # equal to the original image.\n",
    "    attribution_mask = tf.reduce_sum(tf.math.abs(attributions), axis=-1)\n",
    "\n",
    "    fig, axs = plt.subplots(nrows=2, ncols=2, squeeze=False, figsize=(12, 8))\n",
    "\n",
    "    axs[0, 0].set_title('Baseline image')\n",
    "    axs[0, 0].imshow(baseline)\n",
    "    axs[0, 0].axis('off')\n",
    "\n",
    "    axs[0, 1].set_title('Original image')\n",
    "    axs[0, 1].imshow(image)\n",
    "    axs[0, 1].axis('off')\n",
    "\n",
    "    axs[1, 0].set_title('Attribution mask')\n",
    "    axs[1, 0].imshow(attribution_mask, cmap=cmap)\n",
    "    axs[1, 0].axis('off')\n",
    "\n",
    "    axs[1, 1].set_title('Overlay')\n",
    "    axs[1, 1].imshow(attribution_mask, cmap=cmap)\n",
    "    axs[1, 1].imshow(image, alpha=overlay_alpha)\n",
    "    axs[1, 1].axis('off')\n",
    "\n",
    "    plt.tight_layout()\n",
    "    return fig"
   ]
  },
  {
   "cell_type": "code",
   "execution_count": 18,
   "metadata": {},
   "outputs": [
    {
     "name": "stderr",
     "output_type": "stream",
     "text": [
      "Clipping input data to the valid range for imshow with RGB data ([0..1] for floats or [0..255] for integers).\n",
      "Clipping input data to the valid range for imshow with RGB data ([0..1] for floats or [0..255] for integers).\n"
     ]
    },
    {
     "data": {
      "image/png": "[encoded data removed]",
      "text/plain": [
       "<Figure size 864x576 with 4 Axes>"
      ]
     },
     "metadata": {
      "needs_background": "light"
     },
     "output_type": "display_data"
    }
   ],
   "source": [
    "_ = plot_img_attributions(image=pickles[0],\n",
    "                          baseline=baseline,\n",
    "                          cmap=plt.cm.inferno,\n",
    "                          overlay_alpha=0.4)"
   ]
  },
  {
   "cell_type": "markdown",
   "metadata": {},
   "source": [
    "## Integrated Gradients: saliency maps implementation\n",
    "##### [From the library on GitHub](https://github.com/PAIR-code/saliency)"
   ]
  },
  {
   "cell_type": "code",
   "execution_count": 19,
   "metadata": {},
   "outputs": [],
   "source": [
    "# Some functions to plot the masks and the images\n",
    "def ShowImage(im, title='', ax=None):\n",
    "    if ax is None:\n",
    "        P.figure()\n",
    "    P.axis('off')\n",
    "    P.imshow(im)\n",
    "    P.title(title)\n",
    "\n",
    "def ShowGrayscaleImage(im, title='', ax=None):\n",
    "    if ax is None:\n",
    "        P.figure()\n",
    "    P.axis('off')\n",
    "\n",
    "    P.imshow(im, cmap=P.cm.gray, vmin=0, vmax=1)\n",
    "    P.title(title)\n",
    "\n",
    "def ShowHeatMap(im, title, ax=None):\n",
    "    if ax is None:\n",
    "        P.figure()\n",
    "    P.axis('off')\n",
    "    P.imshow(im, cmap='inferno')\n",
    "    P.title(title)"
   ]
  },
  {
   "cell_type": "code",
   "execution_count": 81,
   "metadata": {},
   "outputs": [],
   "source": [
    "class_idx_str = 'class_idx_str'\n",
    "# definition of the function to compute the gradients, it will be passed to the various saliency techniques functions\n",
    "def call_model_function(images, call_model_args=None, expected_keys=None):\n",
    "    target_class_idx =  call_model_args[class_idx_str]\n",
    "    images = tf.convert_to_tensor(images)\n",
    "    with tf.GradientTape() as tape:\n",
    "            tape.watch(images)\n",
    "            output_layer = model(images)\n",
    "            gradients = np.array(tape.gradient(output_layer, images))\n",
    "            return {saliency.base.INPUT_OUTPUT_GRADIENTS: gradients}"
   ]
  },
  {
   "cell_type": "code",
   "execution_count": 82,
   "metadata": {},
   "outputs": [
    {
     "name": "stderr",
     "output_type": "stream",
     "text": [
      "Clipping input data to the valid range for imshow with RGB data ([0..1] for floats or [0..255] for integers).\n"
     ]
    },
    {
     "name": "stdout",
     "output_type": "stream",
     "text": [
      "Preditiction: 1\n"
     ]
    },
    {
     "data": {
      "image/png": "[encoded data removed]",
      "text/plain": [
       "<Figure size 432x288 with 1 Axes>"
      ]
     },
     "metadata": {
      "needs_background": "light"
     },
     "output_type": "display_data"
    }
   ],
   "source": [
    "# Load the first image that will be used to showcase the implementations\n",
    "im = pickles[0]\n",
    "\n",
    "# Show the image\n",
    "ShowImage(im)\n",
    "\n",
    "prediction = predictions(im)\n",
    "prediction = int(prediction.numpy())\n",
    "print('Preditiction: ' + str(prediction))\n",
    "call_model_args = {class_idx_str: prediction}"
   ]
  },
  {
   "cell_type": "code",
   "execution_count": 95,
   "metadata": {},
   "outputs": [],
   "source": [
    "# Initialize the saliency objects\n",
    "gradient_saliency = saliency.GradientSaliency() # Vanilla Gradients\n",
    "integrated_gradients = saliency.IntegratedGradients() # Vanilla Integrated Gradients\n",
    "guided_ig = saliency.GuidedIG() # Guided Integrated Gradients\n",
    "xrai_object = saliency.XRAI() # XRAI\n",
    "blur_ig = saliency.BlurIG() # Blur Integrated Gradients\n",
    "\n",
    "\n",
    "# Visualization parameters\n",
    "ROWS = 1\n",
    "COLS = 3\n",
    "UPSCALE_FACTOR = 15"
   ]
  },
  {
   "cell_type": "code",
   "execution_count": 96,
   "metadata": {},
   "outputs": [],
   "source": [
    "# Compute masks for different techniques\n",
    "# (some of them will take a while due to the high amount of computations required)\n",
    "vanilla_mask_3d = gradient_saliency.GetMask(im, call_model_function, call_model_args) # Vanilla Gradients\n",
    "\n",
    "smoothgrad_mask_3d = gradient_saliency.GetSmoothedMask(im, call_model_function, call_model_args) # SmoothGrad\n",
    "\n",
    "vanilla_integrated_gradients_mask_3d = integrated_gradients.GetMask(\n",
    "  im, call_model_function, call_model_args, x_steps=25, x_baseline=baseline, batch_size=20) # Vanilla IG\n",
    "\n",
    "guided_ig_mask_3d = guided_ig.GetMask(\n",
    "  im, call_model_function, call_model_args, x_steps=25, x_baseline=baseline, max_dist=1.0, fraction=0.5) # Guided IG\n",
    "\n",
    "smoothgrad_integrated_gradients_mask_3d = integrated_gradients.GetSmoothedMask(\n",
    "  im, call_model_function, call_model_args, x_steps=25, x_baseline=baseline, batch_size=20) # SmoothGrad IG\n",
    "\n",
    "\n",
    "blur_ig_mask_3d = blur_ig.GetMask(im, call_model_function, call_model_args, batch_size=20) # Blur IG\n",
    "\n",
    "smooth_blur_ig_mask_3d = blur_ig.GetSmoothedMask(\n",
    "    im, call_model_function, call_model_args, batch_size=20) # SmoothGrad Blur IG"
   ]
  },
  {
   "cell_type": "code",
   "execution_count": 97,
   "metadata": {},
   "outputs": [],
   "source": [
    "# Convert masks to grayscale\n",
    "vanilla_mask_grayscale = saliency.VisualizeImageGrayscale(vanilla_mask_3d)\n",
    "\n",
    "smoothgrad_mask_grayscale = saliency.VisualizeImageGrayscale(smoothgrad_mask_3d)\n",
    "\n",
    "vanilla_integrated_mask_grayscale = saliency.VisualizeImageGrayscale(vanilla_integrated_gradients_mask_3d)\n",
    "\n",
    "guided_ig_mask_grayscale = saliency.VisualizeImageGrayscale(guided_ig_mask_3d)\n",
    "\n",
    "smoothgrad_mask_grayscale = saliency.VisualizeImageGrayscale(smoothgrad_integrated_gradients_mask_3d)\n",
    "\n",
    "blur_ig_mask_grayscale = saliency.VisualizeImageGrayscale(blur_ig_mask_3d)\n",
    "\n",
    "smooth_blur_ig_mask_grayscale = saliency.VisualizeImageGrayscale(smooth_blur_ig_mask_3d)\n",
    "\n",
    "# Compute XRAI attributions with default parameters\n",
    "xrai_attributions = xrai_object.GetMask(im, call_model_function, call_model_args, batch_size=20)"
   ]
  },
  {
   "cell_type": "markdown",
   "metadata": {},
   "source": [
    "### Vanilla Gradients vs SmoothGrad"
   ]
  },
  {
   "cell_type": "code",
   "execution_count": 98,
   "metadata": {},
   "outputs": [
    {
     "name": "stderr",
     "output_type": "stream",
     "text": [
      "Clipping input data to the valid range for imshow with RGB data ([0..1] for floats or [0..255] for integers).\n"
     ]
    },
    {
     "data": {
      "image/png": "[encoded data removed]",
      "text/plain": [
       "<Figure size 1080x3240 with 3 Axes>"
      ]
     },
     "metadata": {
      "needs_background": "light"
     },
     "output_type": "display_data"
    }
   ],
   "source": [
    "# Plot\n",
    "plt.figure(figsize=(ROWS * UPSCALE_FACTOR, COLS * UPSCALE_FACTOR))\n",
    "ShowImage(im, title='Original Image', ax=P.subplot(ROWS, COLS, 1))\n",
    "ShowGrayscaleImage(vanilla_mask_grayscale, title='Vanilla Gradient', ax=P.subplot(ROWS, COLS, 2))\n",
    "ShowGrayscaleImage(smoothgrad_mask_grayscale, title='SmoothGrad', ax=P.subplot(ROWS, COLS, 3))"
   ]
  },
  {
   "cell_type": "markdown",
   "metadata": {},
   "source": [
    "### Vanilla IG vs Guided IG"
   ]
  },
  {
   "cell_type": "code",
   "execution_count": 99,
   "metadata": {},
   "outputs": [
    {
     "name": "stderr",
     "output_type": "stream",
     "text": [
      "Clipping input data to the valid range for imshow with RGB data ([0..1] for floats or [0..255] for integers).\n"
     ]
    },
    {
     "data": {
      "image/png": "[encoded data removed]",
      "text/plain": [
       "<Figure size 1080x3240 with 3 Axes>"
      ]
     },
     "metadata": {
      "needs_background": "light"
     },
     "output_type": "display_data"
    }
   ],
   "source": [
    "# Plot\n",
    "plt.figure(figsize=(ROWS * UPSCALE_FACTOR, COLS * UPSCALE_FACTOR))\n",
    "ShowImage(im, title='Original Image', ax=P.subplot(ROWS, COLS, 1))\n",
    "ShowGrayscaleImage(vanilla_integrated_mask_grayscale, title='Vanilla Integrated Gradients', ax=P.subplot(ROWS, COLS, 2))\n",
    "ShowGrayscaleImage(guided_ig_mask_grayscale, title='Guided Integrated Gradients', ax=P.subplot(ROWS, COLS, 3))"
   ]
  },
  {
   "cell_type": "markdown",
   "metadata": {},
   "source": [
    "### Vanilla IG vs SmoothGrad IG"
   ]
  },
  {
   "cell_type": "code",
   "execution_count": 100,
   "metadata": {},
   "outputs": [
    {
     "name": "stderr",
     "output_type": "stream",
     "text": [
      "Clipping input data to the valid range for imshow with RGB data ([0..1] for floats or [0..255] for integers).\n"
     ]
    },
    {
     "data": {
      "image/png": "[encoded data removed]",
      "text/plain": [
       "<Figure size 1080x3240 with 3 Axes>"
      ]
     },
     "metadata": {
      "needs_background": "light"
     },
     "output_type": "display_data"
    }
   ],
   "source": [
    "# Plot\n",
    "plt.figure(figsize=(ROWS * UPSCALE_FACTOR, COLS * UPSCALE_FACTOR))\n",
    "ShowImage(im, title='Original Image', ax=P.subplot(ROWS, COLS, 1))\n",
    "ShowGrayscaleImage(vanilla_integrated_mask_grayscale, title='Vanilla Integrated Gradients', ax=P.subplot(ROWS, COLS, 2))\n",
    "ShowGrayscaleImage(smoothgrad_mask_grayscale, title='Smoothgrad Integrated Gradients', ax=P.subplot(ROWS, COLS, 3))"
   ]
  },
  {
   "cell_type": "markdown",
   "metadata": {},
   "source": [
    "### XRAI Attributions"
   ]
  },
  {
   "cell_type": "code",
   "execution_count": 101,
   "metadata": {},
   "outputs": [
    {
     "name": "stderr",
     "output_type": "stream",
     "text": [
      "Clipping input data to the valid range for imshow with RGB data ([0..1] for floats or [0..255] for integers).\n",
      "Clipping input data to the valid range for imshow with RGB data ([0..1] for floats or [0..255] for integers).\n"
     ]
    },
    {
     "data": {
      "image/png": "[encoded data removed]",
      "text/plain": [
       "<Figure size 1080x3240 with 3 Axes>"
      ]
     },
     "metadata": {
      "needs_background": "light"
     },
     "output_type": "display_data"
    }
   ],
   "source": [
    "# Plot\n",
    "plt.figure(figsize=(ROWS * UPSCALE_FACTOR, COLS * UPSCALE_FACTOR))\n",
    "\n",
    "# Original image\n",
    "ShowImage(im, title='Original Image', ax=P.subplot(ROWS, COLS, 1))\n",
    "# XRAI heatmap attributions\n",
    "ShowHeatMap(xrai_attributions, title='XRAI Heatmap', ax=P.subplot(ROWS, COLS, 2))\n",
    "\n",
    "# Most salient 20% of the image\n",
    "mask = xrai_attributions > np.percentile(xrai_attributions, 60)\n",
    "im_mask = np.array(im)\n",
    "im_mask[~mask] = 0\n",
    "ShowImage(im_mask, title='Top 40%', ax=P.subplot(ROWS, COLS, 3))"
   ]
  },
  {
   "cell_type": "markdown",
   "metadata": {},
   "source": [
    "### Vanilla IG vs Blur IG"
   ]
  },
  {
   "cell_type": "code",
   "execution_count": 102,
   "metadata": {},
   "outputs": [
    {
     "name": "stderr",
     "output_type": "stream",
     "text": [
      "Clipping input data to the valid range for imshow with RGB data ([0..1] for floats or [0..255] for integers).\n"
     ]
    },
    {
     "data": {
      "image/png": "[encoded data removed]",
      "text/plain": [
       "<Figure size 1080x3240 with 3 Axes>"
      ]
     },
     "metadata": {
      "needs_background": "light"
     },
     "output_type": "display_data"
    }
   ],
   "source": [
    "# Plot\n",
    "plt.figure(figsize=(ROWS * UPSCALE_FACTOR, COLS * UPSCALE_FACTOR))\n",
    "ShowImage(im, title='Original Image', ax=P.subplot(ROWS, COLS, 1))\n",
    "ShowGrayscaleImage(vanilla_integrated_mask_grayscale, title='Vanilla Integrated Gradients', ax=P.subplot(ROWS, COLS, 2))\n",
    "ShowGrayscaleImage(blur_ig_mask_grayscale, title='Blur Integrated Gradients', ax=P.subplot(ROWS, COLS, 3))"
   ]
  },
  {
   "cell_type": "markdown",
   "metadata": {},
   "source": [
    "### Blur IG vs SmoothGrad Blur IG"
   ]
  },
  {
   "cell_type": "code",
   "execution_count": 103,
   "metadata": {},
   "outputs": [
    {
     "name": "stderr",
     "output_type": "stream",
     "text": [
      "Clipping input data to the valid range for imshow with RGB data ([0..1] for floats or [0..255] for integers).\n"
     ]
    },
    {
     "data": {
      "image/png": "[encoded data removed]",
      "text/plain": [
       "<Figure size 1080x3240 with 3 Axes>"
      ]
     },
     "metadata": {
      "needs_background": "light"
     },
     "output_type": "display_data"
    }
   ],
   "source": [
    "# Plot\n",
    "plt.figure(figsize=(ROWS * UPSCALE_FACTOR, COLS * UPSCALE_FACTOR))\n",
    "ShowImage(im, title='Original Image', ax=P.subplot(ROWS, COLS, 1))\n",
    "ShowGrayscaleImage(blur_ig_mask_grayscale, title='Blur Integrated Gradients', ax=P.subplot(ROWS, COLS, 2))\n",
    "ShowGrayscaleImage(smooth_blur_ig_mask_grayscale, title='Smoothgrad Blur IG', ax=P.subplot(ROWS, COLS, 3))"
   ]
  },
  {
   "cell_type": "markdown",
   "metadata": {},
   "source": [
    "# CDR3-epitope interaction data exploration"
   ]
  },
  {
   "cell_type": "code",
   "execution_count": 104,
   "metadata": {},
   "outputs": [
    {
     "name": "stdout",
     "output_type": "stream",
     "text": [
      "2021-08-17 15:41:30,811 - root - INFO - CLI argument batch_size: 128\n",
      "2021-08-17 15:41:30,811 - root - INFO - CLI argument cdr3_column: 'cdr3'\n",
      "2021-08-17 15:41:30,812 - root - INFO - CLI argument epitope_column: 'antigen.epitope'\n",
      "2021-08-17 15:41:30,812 - root - INFO - CLI argument features: 'hydrophob,isoelectric,mass,hydrophil'\n",
      "2021-08-17 15:41:30,812 - root - INFO - CLI argument images_dir: '/Users/fabio_air/Desktop/ImRex-master/deepTCR/Images_analysis/'\n",
      "2021-08-17 15:41:30,812 - root - INFO - CLI argument input: '/Users/fabio_air/Desktop/ImRex-master/deepTCR/preprocessed_vdjdb.csv'\n",
      "2021-08-17 15:41:30,812 - root - INFO - CLI argument max_length_cdr3: 20\n",
      "2021-08-17 15:41:30,812 - root - INFO - CLI argument max_length_epitope: 11\n",
      "2021-08-17 15:41:30,812 - root - INFO - CLI argument min_length_cdr3: 10\n",
      "2021-08-17 15:41:30,812 - root - INFO - CLI argument min_length_epitope: 8\n",
      "2021-08-17 15:41:30,812 - root - INFO - CLI argument model: '/Users/fabio_air/Desktop/ImRex-master/models/pretrained/2020-07-24_19-18-39_trbmhcidown-shuffle-padded-b32-lre4-reg001/2020-07-24_19-18-39_trbmhcidown-shuffle-padded-b32-lre4-reg001.h5'\n",
      "2021-08-17 15:41:30,815 - root - INFO - CLI argument model_type: 'padded'\n",
      "2021-08-17 15:41:30,815 - root - INFO - CLI argument operator: 'absdiff'\n",
      "2021-08-17 15:41:30,815 - root - INFO - CLI argument output: '/Users/fabio_air/Desktop/ImRex-master/deepTCR/output-predictions.csv'\n",
      "2021-08-17 15:41:30,815 - root - INFO - CLI argument sep: ';'\n",
      "2021-08-17 15:41:30,971 - __main__ - INFO - features: [Hydrophobicity(), IsoelectricPoint(), Mass(), Hydrophilicity()]\n",
      "2021-08-17 15:41:30,971 - __main__ - INFO - operator: AbsDifferenceOperator()\n",
      "2021-08-17 15:41:30,971 - __main__ - INFO - Filtered CDR3 sequences to length: (10, 20)\n",
      "2021-08-17 15:41:30,971 - __main__ - INFO - Filtered epitope sequences to length: (8, 11)\n",
      "2021-08-17 15:43:39,443 - __main__ - INFO - Saved predictions in /Users/fabio_air/Desktop/ImRex-master/deepTCR/output-predictions.csv.\n"
     ]
    }
   ],
   "source": [
    "# the command has to be rerun to generate the new images based on the new data\n",
    "!python /Users/fabio_air/Desktop/ImRex-master/src/scripts/predict/predict.py --model /Users/fabio_air/Desktop/ImRex-master/models/pretrained/2020-07-24_19-18-39_trbmhcidown-shuffle-padded-b32-lre4-reg001/2020-07-24_19-18-39_trbmhcidown-shuffle-padded-b32-lre4-reg001.h5 --input /Users/fabio_air/Desktop/ImRex-master/deepTCR/preprocessed_vdjdb.csv --output /Users/fabio_air/Desktop/ImRex-master/deepTCR/output-predictions.csv --images_dir /Users/fabio_air/Desktop/ImRex-master/deepTCR/Images_analysis/"
   ]
  },
  {
   "cell_type": "code",
   "execution_count": 105,
   "metadata": {},
   "outputs": [],
   "source": [
    "# a new image path is being declared since the dataset has changed\n",
    "img_path_analysis = '/Users/fabio_air/Desktop/ImRex-master/deepTCR/Images_analysis/'"
   ]
  },
  {
   "cell_type": "code",
   "execution_count": 106,
   "metadata": {},
   "outputs": [
    {
     "data": {
      "text/html": [
       "<div>\n",
       "<style scoped>\n",
       "    .dataframe tbody tr th:only-of-type {\n",
       "        vertical-align: middle;\n",
       "    }\n",
       "\n",
       "    .dataframe tbody tr th {\n",
       "        vertical-align: top;\n",
       "    }\n",
       "\n",
       "    .dataframe thead th {\n",
       "        text-align: right;\n",
       "    }\n",
       "</style>\n",
       "<table border=\"1\" class=\"dataframe\">\n",
       "  <thead>\n",
       "    <tr style=\"text-align: right;\">\n",
       "      <th></th>\n",
       "      <th>cdr3</th>\n",
       "      <th>antigen.epitope</th>\n",
       "      <th>y</th>\n",
       "      <th>prediction_score</th>\n",
       "      <th>im_name</th>\n",
       "    </tr>\n",
       "  </thead>\n",
       "  <tbody>\n",
       "    <tr>\n",
       "      <th>0</th>\n",
       "      <td>CSVWGTGKTYEQYF</td>\n",
       "      <td>FLKEKGGL</td>\n",
       "      <td>1</td>\n",
       "      <td>0.893772</td>\n",
       "      <td>im_1</td>\n",
       "    </tr>\n",
       "    <tr>\n",
       "      <th>1</th>\n",
       "      <td>CSVWGEGRSYEQYF</td>\n",
       "      <td>FLKEKGGL</td>\n",
       "      <td>1</td>\n",
       "      <td>0.958685</td>\n",
       "      <td>im_2</td>\n",
       "    </tr>\n",
       "    <tr>\n",
       "      <th>2</th>\n",
       "      <td>CSATILAGVPYGEQYF</td>\n",
       "      <td>FLKEKGGL</td>\n",
       "      <td>1</td>\n",
       "      <td>0.932274</td>\n",
       "      <td>im_3</td>\n",
       "    </tr>\n",
       "    <tr>\n",
       "      <th>3</th>\n",
       "      <td>CSASEGTSSYEQYF</td>\n",
       "      <td>FLKEKGGL</td>\n",
       "      <td>1</td>\n",
       "      <td>0.823513</td>\n",
       "      <td>im_4</td>\n",
       "    </tr>\n",
       "    <tr>\n",
       "      <th>4</th>\n",
       "      <td>CASSFDREVTGELFF</td>\n",
       "      <td>FLKEKGGL</td>\n",
       "      <td>1</td>\n",
       "      <td>0.937733</td>\n",
       "      <td>im_5</td>\n",
       "    </tr>\n",
       "    <tr>\n",
       "      <th>...</th>\n",
       "      <td>...</td>\n",
       "      <td>...</td>\n",
       "      <td>...</td>\n",
       "      <td>...</td>\n",
       "      <td>...</td>\n",
       "    </tr>\n",
       "    <tr>\n",
       "      <th>13894</th>\n",
       "      <td>CASVTGSTDTQYF</td>\n",
       "      <td>ELKRKMIYM</td>\n",
       "      <td>1</td>\n",
       "      <td>0.909759</td>\n",
       "      <td>im_20268</td>\n",
       "    </tr>\n",
       "    <tr>\n",
       "      <th>13895</th>\n",
       "      <td>CASSDGTAYEQYF</td>\n",
       "      <td>ELKRKMIYM</td>\n",
       "      <td>1</td>\n",
       "      <td>0.862933</td>\n",
       "      <td>im_20269</td>\n",
       "    </tr>\n",
       "    <tr>\n",
       "      <th>13896</th>\n",
       "      <td>CASSLARNQPQHF</td>\n",
       "      <td>CVETMCNEY</td>\n",
       "      <td>1</td>\n",
       "      <td>0.672335</td>\n",
       "      <td>im_20270</td>\n",
       "    </tr>\n",
       "    <tr>\n",
       "      <th>13897</th>\n",
       "      <td>CASGGADMKTEAFF</td>\n",
       "      <td>CVETMCNEY</td>\n",
       "      <td>1</td>\n",
       "      <td>0.893031</td>\n",
       "      <td>im_20271</td>\n",
       "    </tr>\n",
       "    <tr>\n",
       "      <th>13898</th>\n",
       "      <td>CASSPGGGKETQYF</td>\n",
       "      <td>DEEDAIAAY</td>\n",
       "      <td>1</td>\n",
       "      <td>0.868307</td>\n",
       "      <td>im_20272</td>\n",
       "    </tr>\n",
       "  </tbody>\n",
       "</table>\n",
       "<p>13899 rows × 5 columns</p>\n",
       "</div>"
      ],
      "text/plain": [
       "                   cdr3 antigen.epitope  y  prediction_score   im_name\n",
       "0        CSVWGTGKTYEQYF        FLKEKGGL  1          0.893772      im_1\n",
       "1        CSVWGEGRSYEQYF        FLKEKGGL  1          0.958685      im_2\n",
       "2      CSATILAGVPYGEQYF        FLKEKGGL  1          0.932274      im_3\n",
       "3        CSASEGTSSYEQYF        FLKEKGGL  1          0.823513      im_4\n",
       "4       CASSFDREVTGELFF        FLKEKGGL  1          0.937733      im_5\n",
       "...                 ...             ... ..               ...       ...\n",
       "13894     CASVTGSTDTQYF       ELKRKMIYM  1          0.909759  im_20268\n",
       "13895     CASSDGTAYEQYF       ELKRKMIYM  1          0.862933  im_20269\n",
       "13896     CASSLARNQPQHF       CVETMCNEY  1          0.672335  im_20270\n",
       "13897    CASGGADMKTEAFF       CVETMCNEY  1          0.893031  im_20271\n",
       "13898    CASSPGGGKETQYF       DEEDAIAAY  1          0.868307  im_20272\n",
       "\n",
       "[13899 rows x 5 columns]"
      ]
     },
     "execution_count": 106,
     "metadata": {},
     "output_type": "execute_result"
    }
   ],
   "source": [
    "df = pd.read_csv(work_dir + 'output-predictions.csv')\n",
    "df = df[df.y != 0] # the cases that are not interations are discarded\n",
    "df = df[df.prediction_score >= 0.5] # the cases where the model has predicted a non-interaction are discarded (false negatives)\n",
    "df = df.reset_index(drop=True)\n",
    "df"
   ]
  },
  {
   "cell_type": "code",
   "execution_count": 107,
   "metadata": {},
   "outputs": [
    {
     "data": {
      "text/plain": [
       "TensorShape([13899, 20, 11, 4])"
      ]
     },
     "execution_count": 107,
     "metadata": {},
     "output_type": "execute_result"
    }
   ],
   "source": [
    "# load images saved with pickle from predict.py\n",
    "pickles_analysis = [] # list of pickled Tensors\n",
    "for f in df['im_name']:\n",
    "    try:\n",
    "        with open(img_path_analysis + str(f)+'.pkl','rb') as fil:\n",
    "            x = pkl.load(fil)\n",
    "            pickles_analysis.append(x)\n",
    "    except Exception as e:\n",
    "        print(e)\n",
    "        \n",
    "pickles_analysis = tf.convert_to_tensor(pickles_analysis) # conversion to tensor of the list\n",
    "pickles_analysis = tf.cast(pickles_analysis, tf.float32) # cast to float\n",
    "pickles_analysis.shape"
   ]
  },
  {
   "cell_type": "code",
   "execution_count": 120,
   "metadata": {},
   "outputs": [
    {
     "data": {
      "image/png": "[encoded data removed]",
      "text/plain": [
       "<Figure size 1080x3240 with 3 Axes>"
      ]
     },
     "metadata": {
      "needs_background": "light"
     },
     "output_type": "display_data"
    }
   ],
   "source": [
    "# Load the image\n",
    "im = pickles_analysis[0]\n",
    "\n",
    "# Compute the vanilla mask\n",
    "vanilla_integrated_gradients_mask_3d = integrated_gradients.GetMask(\n",
    "  im, call_model_function, call_model_args, x_steps=40, x_baseline=baseline, batch_size=20)\n",
    "\n",
    "# Call the visualization methods to convert the 3D tensor to 2D grayscale\n",
    "vanilla_mask_grayscale = saliency.VisualizeImageGrayscale(vanilla_integrated_gradients_mask_3d)\n",
    "\n",
    "\n",
    "# Render the saliency masks\n",
    "plt.figure(figsize=(ROWS * UPSCALE_FACTOR, COLS * UPSCALE_FACTOR))\n",
    "ShowImage(im, title='Original Image', ax=P.subplot(ROWS, COLS, 1))\n",
    "ShowGrayscaleImage(vanilla_mask_grayscale, title='Vanilla Integrated Gradients', ax=P.subplot(ROWS, COLS, 2))\n",
    "\n",
    "# Show most salient 5% of the image.\n",
    "# !!! The 5% of top pixels here generated keeps into account the white padding added, which should be cropped,\n",
    "# this is the next step that will be implemented\n",
    "mask = vanilla_mask_grayscale > np.percentile(vanilla_mask_grayscale, 95)\n",
    "im_mask = np.array(im)\n",
    "im_mask[~mask] = 0\n",
    "ShowImage(im_mask, title='Top 5%', ax=P.subplot(ROWS, COLS, 3))"
   ]
  },
  {
   "cell_type": "markdown",
   "metadata": {},
   "source": [
    "### Crop padding from the images\n",
    "#### This allows to select the top relevant pixels factoring out the padded white areas of the images"
   ]
  },
  {
   "cell_type": "code",
   "execution_count": 121,
   "metadata": {},
   "outputs": [
    {
     "data": {
      "image/png": "[encoded data removed]",
      "text/plain": [
       "<Figure size 1080x720 with 3 Axes>"
      ]
     },
     "metadata": {
      "needs_background": "light"
     },
     "output_type": "display_data"
    }
   ],
   "source": [
    "im_mask = np.array(im)\n",
    "mask = (im_mask != 0.0).all(axis=(2)) # select all rows and columns that are not entirely white\n",
    "im_mask = im_mask[(mask == True).any(axis=1),:]\n",
    "im_mask = im_mask[:,(mask == True).any(axis=0)]\n",
    "\n",
    "vanilla_mask_grayscale = vanilla_mask_grayscale[(mask == True).any(axis=1),:]\n",
    "vanilla_mask_grayscale = vanilla_mask_grayscale[:,(mask == True).any(axis=0)]\n",
    "\n",
    "# select top 5% of the pixels \n",
    "r_mask = vanilla_mask_grayscale > np.percentile(vanilla_mask_grayscale, 95)\n",
    "top_mask = np.array(im)\n",
    "top_mask = top_mask[(mask == True).any(axis=1),:]\n",
    "top_mask = top_mask[:,(mask == True).any(axis=0)]\n",
    "top_mask[~r_mask] = 0 # set the other pixels to white\n",
    "\n",
    "fig,(ax, ax2, ax3) = plt.subplots(1,3, sharex=True, sharey=True)\n",
    "img = ax.imshow(im_mask)\n",
    "img2 = ax2.imshow(vanilla_mask_grayscale, cmap=P.cm.gray, vmin=0, vmax=1)\n",
    "img3 = ax3.imshow(top_mask)\n",
    "\n",
    "\n",
    "ax.set_xticks(np.arange(len(df['antigen.epitope'][0])))\n",
    "ax.set_yticks(np.arange(len(df['cdr3'][0])))\n",
    "ax.set_yticklabels(df['cdr3'][0][::-1])\n",
    "ax.set_ylabel('cdr3')\n",
    "ax.set_xlabel('epitope')\n",
    "ax.set_xticklabels(df['antigen.epitope'][0])\n",
    "ax.set_title(\"Physico-chemical heatmap\")\n",
    "ax2.set_title(\"Vanilla Integrated Gradients\")\n",
    "ax3.set_title(\"Top 95%\")\n",
    "\n",
    "fig.set_figheight(10)\n",
    "fig.set_figwidth(15)\n",
    "plt.show()"
   ]
  },
  {
   "cell_type": "markdown",
   "metadata": {},
   "source": [
    "#### Extract the top pairs highlighted previously, for each image"
   ]
  },
  {
   "cell_type": "code",
   "execution_count": 33,
   "metadata": {},
   "outputs": [],
   "source": [
    "# definition of the function for the extraction\n",
    "def extract_pairs(mask, mask_grayscale, im_mask, cdr3, epitope):\n",
    "    output = []\n",
    "    reverse_cdr3 = cdr3[::-1] # reversing of the cdr3 sequence is needed since it is plotted from the origin moving \n",
    "                              # \"upwards\", following the positive y-axis direction\n",
    "    relevant_indices = np.transpose(np.nonzero(mask)) # grab the non zero elements of the mask\n",
    "    for pair in relevant_indices:\n",
    "        res1 = reverse_cdr3[pair[0]]\n",
    "        res2 = epitope[pair[1]]\n",
    "        pxlv = mask_grayscale[pair[0], pair[1]]\n",
    "        real_pxlv = im_mask[pair[0], pair[1]]\n",
    "        # saves all the relevant information of the pixel pair\n",
    "        # the sequences, the residues, their correct offsets, the property values and their IG value (grayvalue)\n",
    "        output.append({'cdr3': cdr3, 'epitope': epitope, 'Res1' : res1, 'Res2': res2, \n",
    "                       'Off1' : len(cdr3)-pair[0]-1, 'Off2': pair[1], 'gray_value': pxlv,\n",
    "                       'property1' : real_pxlv[0],'property2' : real_pxlv[1],'property3' : real_pxlv[2],'property4' : real_pxlv[3]})\n",
    "\n",
    "    return(output)"
   ]
  },
  {
   "cell_type": "code",
   "execution_count": null,
   "metadata": {
    "scrolled": true
   },
   "outputs": [
    {
     "name": "stdout",
     "output_type": "stream",
     "text": [
      "0\n",
      "100\n",
      "200\n",
      "300\n",
      "400\n",
      "500\n",
      "600\n",
      "700\n",
      "800\n",
      "900\n",
      "1000\n",
      "1100\n",
      "1200\n",
      "1300\n",
      "1400\n",
      "1500\n",
      "1600\n",
      "1700\n",
      "1800\n",
      "1900\n",
      "2000\n",
      "2100\n",
      "2200\n",
      "2300\n",
      "2400\n",
      "2500\n",
      "2600\n",
      "2700\n",
      "2800\n",
      "2900\n",
      "3000\n",
      "3100\n",
      "3200\n",
      "3300\n",
      "3400\n",
      "3500\n",
      "3600\n",
      "3700\n",
      "3800\n",
      "3900\n",
      "4000\n",
      "4100\n",
      "4200\n",
      "4300\n",
      "4400\n",
      "4500\n",
      "4600\n",
      "4700\n",
      "4800\n",
      "4900\n"
     ]
    }
   ],
   "source": [
    "data = [] \n",
    "\n",
    "# loop to extract the pairs from each image\n",
    "for i in range(df.shape[0]):\n",
    "    im = pickles_analysis[i]\n",
    "    \n",
    "    vanilla_integrated_gradients_mask_3d = integrated_gradients.GetMask(\n",
    "          im, call_model_function, call_model_args, x_steps=40, x_baseline=baseline, batch_size=20)\n",
    "    \n",
    "    vanilla_mask_grayscale = saliency.VisualizeImageGrayscale(vanilla_integrated_gradients_mask_3d)\n",
    "\n",
    "    im_mask = np.array(im)\n",
    "    mask = (im_mask != 0.0).all(axis=(2))\n",
    "    im_mask = im_mask[(mask == True).any(axis=1),:]\n",
    "    im_mask = im_mask[:,(mask == True).any(axis=0)]\n",
    "    \n",
    "    vanilla_mask_grayscale = vanilla_mask_grayscale[(mask == True).any(axis=1),:]\n",
    "    vanilla_mask_grayscale = vanilla_mask_grayscale[:,(mask == True).any(axis=0)]\n",
    "\n",
    "\n",
    "    r_mask = vanilla_mask_grayscale > np.percentile(vanilla_mask_grayscale, 95)\n",
    "    \n",
    "    data.extend(extract_pairs(r_mask, vanilla_mask_grayscale, im_mask,\n",
    "                              df['cdr3'][i], df['antigen.epitope'][i]))\n",
    "    if not(i%100):\n",
    "        print(i)\n",
    "# save the pairs found to a csv file to easily access the data if needed,\n",
    "# since this past operation is very time consuming\n",
    "pairings = pd.DataFrame(data)\n",
    "\n",
    "pairings.to_csv('pairings.csv',index=False)"
   ]
  },
  {
   "cell_type": "code",
   "execution_count": 129,
   "metadata": {},
   "outputs": [
    {
     "data": {
      "text/html": [
       "<div>\n",
       "<style scoped>\n",
       "    .dataframe tbody tr th:only-of-type {\n",
       "        vertical-align: middle;\n",
       "    }\n",
       "\n",
       "    .dataframe tbody tr th {\n",
       "        vertical-align: top;\n",
       "    }\n",
       "\n",
       "    .dataframe thead th {\n",
       "        text-align: right;\n",
       "    }\n",
       "</style>\n",
       "<table border=\"1\" class=\"dataframe\">\n",
       "  <thead>\n",
       "    <tr style=\"text-align: right;\">\n",
       "      <th></th>\n",
       "      <th>cdr3</th>\n",
       "      <th>epitope</th>\n",
       "      <th>Res1</th>\n",
       "      <th>Res2</th>\n",
       "      <th>Off1</th>\n",
       "      <th>Off2</th>\n",
       "      <th>gray_value</th>\n",
       "      <th>property1</th>\n",
       "      <th>property2</th>\n",
       "      <th>property3</th>\n",
       "      <th>property4</th>\n",
       "    </tr>\n",
       "  </thead>\n",
       "  <tbody>\n",
       "    <tr>\n",
       "      <th>0</th>\n",
       "      <td>CSVWGTGKTYEQYF</td>\n",
       "      <td>FLKEKGGL</td>\n",
       "      <td>E</td>\n",
       "      <td>L</td>\n",
       "      <td>10</td>\n",
       "      <td>1</td>\n",
       "      <td>0.908726</td>\n",
       "      <td>0.522222</td>\n",
       "      <td>0.000000</td>\n",
       "      <td>0.565602</td>\n",
       "      <td>0.250000</td>\n",
       "    </tr>\n",
       "    <tr>\n",
       "      <th>1</th>\n",
       "      <td>CSVWGTGKTYEQYF</td>\n",
       "      <td>FLKEKGGL</td>\n",
       "      <td>Y</td>\n",
       "      <td>K</td>\n",
       "      <td>9</td>\n",
       "      <td>4</td>\n",
       "      <td>0.956598</td>\n",
       "      <td>0.388889</td>\n",
       "      <td>0.591687</td>\n",
       "      <td>0.550649</td>\n",
       "      <td>0.468750</td>\n",
       "    </tr>\n",
       "    <tr>\n",
       "      <th>2</th>\n",
       "      <td>CSVWGTGKTYEQYF</td>\n",
       "      <td>FLKEKGGL</td>\n",
       "      <td>G</td>\n",
       "      <td>L</td>\n",
       "      <td>6</td>\n",
       "      <td>1</td>\n",
       "      <td>1.000000</td>\n",
       "      <td>0.855556</td>\n",
       "      <td>0.591687</td>\n",
       "      <td>0.116250</td>\n",
       "      <td>0.750000</td>\n",
       "    </tr>\n",
       "    <tr>\n",
       "      <th>3</th>\n",
       "      <td>CSVWGTGKTYEQYF</td>\n",
       "      <td>FLKEKGGL</td>\n",
       "      <td>G</td>\n",
       "      <td>L</td>\n",
       "      <td>4</td>\n",
       "      <td>1</td>\n",
       "      <td>1.000000</td>\n",
       "      <td>0.566667</td>\n",
       "      <td>0.000112</td>\n",
       "      <td>0.387242</td>\n",
       "      <td>0.078125</td>\n",
       "    </tr>\n",
       "    <tr>\n",
       "      <th>4</th>\n",
       "      <td>CSVWGTGKTYEQYF</td>\n",
       "      <td>FLKEKGGL</td>\n",
       "      <td>G</td>\n",
       "      <td>K</td>\n",
       "      <td>4</td>\n",
       "      <td>2</td>\n",
       "      <td>0.896325</td>\n",
       "      <td>0.288889</td>\n",
       "      <td>0.591799</td>\n",
       "      <td>0.270992</td>\n",
       "      <td>0.828125</td>\n",
       "    </tr>\n",
       "    <tr>\n",
       "      <th>...</th>\n",
       "      <td>...</td>\n",
       "      <td>...</td>\n",
       "      <td>...</td>\n",
       "      <td>...</td>\n",
       "      <td>...</td>\n",
       "      <td>...</td>\n",
       "      <td>...</td>\n",
       "      <td>...</td>\n",
       "      <td>...</td>\n",
       "      <td>...</td>\n",
       "      <td>...</td>\n",
       "    </tr>\n",
       "    <tr>\n",
       "      <th>94499</th>\n",
       "      <td>CASSPGGGKETQYF</td>\n",
       "      <td>DEEDAIAAY</td>\n",
       "      <td>G</td>\n",
       "      <td>D</td>\n",
       "      <td>6</td>\n",
       "      <td>3</td>\n",
       "      <td>0.971419</td>\n",
       "      <td>0.344444</td>\n",
       "      <td>0.224850</td>\n",
       "      <td>0.449340</td>\n",
       "      <td>0.468750</td>\n",
       "    </tr>\n",
       "    <tr>\n",
       "      <th>94500</th>\n",
       "      <td>CASSPGGGKETQYF</td>\n",
       "      <td>DEEDAIAAY</td>\n",
       "      <td>G</td>\n",
       "      <td>A</td>\n",
       "      <td>5</td>\n",
       "      <td>4</td>\n",
       "      <td>0.988076</td>\n",
       "      <td>0.633333</td>\n",
       "      <td>0.583423</td>\n",
       "      <td>0.442049</td>\n",
       "      <td>0.546875</td>\n",
       "    </tr>\n",
       "    <tr>\n",
       "      <th>94501</th>\n",
       "      <td>CASSPGGGKETQYF</td>\n",
       "      <td>DEEDAIAAY</td>\n",
       "      <td>G</td>\n",
       "      <td>I</td>\n",
       "      <td>5</td>\n",
       "      <td>5</td>\n",
       "      <td>1.000000</td>\n",
       "      <td>0.933333</td>\n",
       "      <td>0.591687</td>\n",
       "      <td>0.116250</td>\n",
       "      <td>0.750000</td>\n",
       "    </tr>\n",
       "    <tr>\n",
       "      <th>94502</th>\n",
       "      <td>CASSPGGGKETQYF</td>\n",
       "      <td>DEEDAIAAY</td>\n",
       "      <td>G</td>\n",
       "      <td>A</td>\n",
       "      <td>5</td>\n",
       "      <td>6</td>\n",
       "      <td>1.000000</td>\n",
       "      <td>0.633333</td>\n",
       "      <td>0.583423</td>\n",
       "      <td>0.442049</td>\n",
       "      <td>0.546875</td>\n",
       "    </tr>\n",
       "    <tr>\n",
       "      <th>94503</th>\n",
       "      <td>CASSPGGGKETQYF</td>\n",
       "      <td>DEEDAIAAY</td>\n",
       "      <td>S</td>\n",
       "      <td>I</td>\n",
       "      <td>2</td>\n",
       "      <td>5</td>\n",
       "      <td>0.962232</td>\n",
       "      <td>0.888889</td>\n",
       "      <td>0.000000</td>\n",
       "      <td>0.115916</td>\n",
       "      <td>0.312500</td>\n",
       "    </tr>\n",
       "  </tbody>\n",
       "</table>\n",
       "<p>94504 rows × 11 columns</p>\n",
       "</div>"
      ],
      "text/plain": [
       "                 cdr3    epitope Res1 Res2  Off1  Off2  gray_value  property1  \\\n",
       "0      CSVWGTGKTYEQYF   FLKEKGGL    E    L    10     1    0.908726   0.522222   \n",
       "1      CSVWGTGKTYEQYF   FLKEKGGL    Y    K     9     4    0.956598   0.388889   \n",
       "2      CSVWGTGKTYEQYF   FLKEKGGL    G    L     6     1    1.000000   0.855556   \n",
       "3      CSVWGTGKTYEQYF   FLKEKGGL    G    L     4     1    1.000000   0.566667   \n",
       "4      CSVWGTGKTYEQYF   FLKEKGGL    G    K     4     2    0.896325   0.288889   \n",
       "...               ...        ...  ...  ...   ...   ...         ...        ...   \n",
       "94499  CASSPGGGKETQYF  DEEDAIAAY    G    D     6     3    0.971419   0.344444   \n",
       "94500  CASSPGGGKETQYF  DEEDAIAAY    G    A     5     4    0.988076   0.633333   \n",
       "94501  CASSPGGGKETQYF  DEEDAIAAY    G    I     5     5    1.000000   0.933333   \n",
       "94502  CASSPGGGKETQYF  DEEDAIAAY    G    A     5     6    1.000000   0.633333   \n",
       "94503  CASSPGGGKETQYF  DEEDAIAAY    S    I     2     5    0.962232   0.888889   \n",
       "\n",
       "       property2  property3  property4  \n",
       "0       0.000000   0.565602   0.250000  \n",
       "1       0.591687   0.550649   0.468750  \n",
       "2       0.591687   0.116250   0.750000  \n",
       "3       0.000112   0.387242   0.078125  \n",
       "4       0.591799   0.270992   0.828125  \n",
       "...          ...        ...        ...  \n",
       "94499   0.224850   0.449340   0.468750  \n",
       "94500   0.583423   0.442049   0.546875  \n",
       "94501   0.591687   0.116250   0.750000  \n",
       "94502   0.583423   0.442049   0.546875  \n",
       "94503   0.000000   0.115916   0.312500  \n",
       "\n",
       "[94504 rows x 11 columns]"
      ]
     },
     "execution_count": 129,
     "metadata": {},
     "output_type": "execute_result"
    }
   ],
   "source": [
    "pairings = pd.read_csv('pairings.csv')\n",
    "pairings"
   ]
  },
  {
   "cell_type": "code",
   "execution_count": 39,
   "metadata": {},
   "outputs": [
    {
     "data": {
      "text/html": [
       "<div>\n",
       "<style scoped>\n",
       "    .dataframe tbody tr th:only-of-type {\n",
       "        vertical-align: middle;\n",
       "    }\n",
       "\n",
       "    .dataframe tbody tr th {\n",
       "        vertical-align: top;\n",
       "    }\n",
       "\n",
       "    .dataframe thead th {\n",
       "        text-align: right;\n",
       "    }\n",
       "</style>\n",
       "<table border=\"1\" class=\"dataframe\">\n",
       "  <thead>\n",
       "    <tr style=\"text-align: right;\">\n",
       "      <th></th>\n",
       "      <th>gray_value</th>\n",
       "      <th>property1</th>\n",
       "      <th>property2</th>\n",
       "      <th>property3</th>\n",
       "      <th>property4</th>\n",
       "    </tr>\n",
       "  </thead>\n",
       "  <tbody>\n",
       "    <tr>\n",
       "      <th>gray_value</th>\n",
       "      <td>1.000000</td>\n",
       "      <td>0.132408</td>\n",
       "      <td>0.070538</td>\n",
       "      <td>-0.023011</td>\n",
       "      <td>0.123850</td>\n",
       "    </tr>\n",
       "    <tr>\n",
       "      <th>property1</th>\n",
       "      <td>0.132408</td>\n",
       "      <td>1.000000</td>\n",
       "      <td>0.252962</td>\n",
       "      <td>-0.565926</td>\n",
       "      <td>0.442282</td>\n",
       "    </tr>\n",
       "    <tr>\n",
       "      <th>property2</th>\n",
       "      <td>0.070538</td>\n",
       "      <td>0.252962</td>\n",
       "      <td>1.000000</td>\n",
       "      <td>0.185498</td>\n",
       "      <td>0.556909</td>\n",
       "    </tr>\n",
       "    <tr>\n",
       "      <th>property3</th>\n",
       "      <td>-0.023011</td>\n",
       "      <td>-0.565926</td>\n",
       "      <td>0.185498</td>\n",
       "      <td>1.000000</td>\n",
       "      <td>-0.175451</td>\n",
       "    </tr>\n",
       "    <tr>\n",
       "      <th>property4</th>\n",
       "      <td>0.123850</td>\n",
       "      <td>0.442282</td>\n",
       "      <td>0.556909</td>\n",
       "      <td>-0.175451</td>\n",
       "      <td>1.000000</td>\n",
       "    </tr>\n",
       "  </tbody>\n",
       "</table>\n",
       "</div>"
      ],
      "text/plain": [
       "            gray_value  property1  property2  property3  property4\n",
       "gray_value    1.000000   0.132408   0.070538  -0.023011   0.123850\n",
       "property1     0.132408   1.000000   0.252962  -0.565926   0.442282\n",
       "property2     0.070538   0.252962   1.000000   0.185498   0.556909\n",
       "property3    -0.023011  -0.565926   0.185498   1.000000  -0.175451\n",
       "property4     0.123850   0.442282   0.556909  -0.175451   1.000000"
      ]
     },
     "execution_count": 39,
     "metadata": {},
     "output_type": "execute_result"
    }
   ],
   "source": [
    "# calculate correlation between numeric data. Slight positive correlation for property 1,2 and 4\n",
    "# while the 3rd is slightly negativly correlated with the relevance the pixel has\n",
    "pairings.drop(columns=['cdr3','epitope','Res1','Res2','Off1','Off2']).corr()"
   ]
  },
  {
   "cell_type": "code",
   "execution_count": 40,
   "metadata": {},
   "outputs": [
    {
     "data": {
      "text/plain": [
       "Text(0.5, 0, 'Offset2')"
      ]
     },
     "execution_count": 40,
     "metadata": {},
     "output_type": "execute_result"
    },
    {
     "data": {
      "image/png": "[encoded data removed]",
      "text/plain": [
       "<Figure size 864x432 with 2 Axes>"
      ]
     },
     "metadata": {
      "needs_background": "light"
     },
     "output_type": "display_data"
    }
   ],
   "source": [
    "# plot distributions' ratios of the two sequences' offsets\n",
    "# the tails see a lower ratio, with the majority of the relevant pixels distributed in the mid sections\n",
    "f, axes = plt.subplots(1, 2, sharey=True)\n",
    "pairings['Off1'].value_counts(normalize=True).sort_index().plot(ax=axes[0],title = 'Distribution CDR3 Offsets', color=plt.cm.Paired(np.arange(len(pairings))),\n",
    "                                                   grid = True, kind='bar', rot = 1, legend = False, figsize=(12,6))\n",
    "pairings['Off2'].value_counts(normalize=True).sort_index().plot(ax=axes[1],title = 'Distribution Epitope Offsets', color=plt.cm.Paired(np.arange(len(pairings))),\n",
    "                                                   grid = True, kind='bar', rot = 1, legend = False, figsize=(12,6))\n",
    "axes[0].set_ylabel(\"Ratio\")\n",
    "axes[0].set_xlabel(\"Offset 1\")\n",
    "axes[1].set_xlabel(\"Offset2\")"
   ]
  },
  {
   "cell_type": "code",
   "execution_count": 42,
   "metadata": {},
   "outputs": [
    {
     "name": "stdout",
     "output_type": "stream",
     "text": [
      "   Res1  counts   total  relevance_ratio\n",
      "0     A    5902  138433         0.042634\n",
      "1     C     331   95158         0.003478\n",
      "2     D    4453   40358         0.110337\n",
      "3     E    5540   69856         0.079306\n",
      "4     F    2586  139958         0.018477\n",
      "5     G   15903  135766         0.117135\n",
      "6     H     766   12808         0.059806\n",
      "7     I    1953   25283         0.077246\n",
      "8     K    1733   17604         0.098444\n",
      "9     L    5370   64522         0.083227\n",
      "10    M     836    8036         0.104032\n",
      "11    N    5698   48403         0.117720\n",
      "12    P    3846   37660         0.102124\n",
      "13    Q    4627   78927         0.058624\n",
      "14    R    4197   42219         0.099410\n",
      "15    S   14886  188174         0.079108\n",
      "16    T    7512   84961         0.088417\n",
      "17    V    2728   35173         0.077559\n",
      "18    W     808    8988         0.089898\n",
      "19    Y    4829   76480         0.063141\n"
     ]
    },
    {
     "data": {
      "text/plain": [
       "Text(0.5, 0, 'Ratio of relevance')"
      ]
     },
     "execution_count": 42,
     "metadata": {},
     "output_type": "execute_result"
    },
    {
     "data": {
      "image/png": "[encoded data removed]",
      "text/plain": [
       "<Figure size 720x432 with 1 Axes>"
      ]
     },
     "metadata": {
      "needs_background": "light"
     },
     "output_type": "display_data"
    }
   ],
   "source": [
    "df = pd.read_csv('pairings.csv')\n",
    "df.drop(columns=['epitope','Off2','Res2','Off1','property1','property2','property3',\n",
    "                 'property4','gray_value'],inplace = True)\n",
    "for un in df['Res1'].unique():\n",
    "    df[un] = df['cdr3'].str.count(un)\n",
    "df.drop(columns=['cdr3'],inplace = True)\n",
    "mappa = {}\n",
    "for column in df.columns[1:]:\n",
    "    mappa[column] = df[column].sum()\n",
    "df = df.groupby(['Res1']).size().reset_index(name='counts')\n",
    "df['total'] = df['Res1'].map(mappa)\n",
    "df['relevance_ratio'] = df['counts']/df['total']\n",
    "print(df)\n",
    "df.drop(columns=['counts','total'],inplace = True)\n",
    "ratioed = pd.DataFrame({'relevance_ratio': df['relevance_ratio'].tolist()},\n",
    "                         index=df['Res1'].tolist()).sort_values(by='relevance_ratio')\n",
    "ax = ratioed.plot(title = 'Ratioed relevance of the residue over dataset for CDR3 residues',\n",
    "                       color=plt.cm.Paired(np.arange(len(df))), kind='barh', grid = True, rot = 1, legend = False, figsize=(10,6))\n",
    "\n",
    "ax.set_xlabel(\"Ratio of relevance\")"
   ]
  },
  {
   "cell_type": "code",
   "execution_count": 43,
   "metadata": {},
   "outputs": [
    {
     "name": "stdout",
     "output_type": "stream",
     "text": [
      "   Res2  counts   total  relevance_ratio\n",
      "0     A    4587  138433         0.033135\n",
      "1     C     983   95158         0.010330\n",
      "2     D    1257   40358         0.031146\n",
      "3     E    1679   69856         0.024035\n",
      "4     F    6389  139958         0.045649\n",
      "5     G    6742  135766         0.049659\n",
      "6     H     470   12808         0.036696\n",
      "7     I   10603   25283         0.419373\n",
      "8     K    2594   17604         0.147353\n",
      "9     L   18127   64522         0.280943\n",
      "10    M    3948    8036         0.491289\n",
      "11    N    3781   48403         0.078115\n",
      "12    P    3201   37660         0.084997\n",
      "13    Q     356   78927         0.004510\n",
      "14    R    6747   42219         0.159810\n",
      "15    S     887  188174         0.004714\n",
      "16    T    1170   84961         0.013771\n",
      "17    V   17790   35173         0.505786\n",
      "18    W    2523    8988         0.280708\n",
      "19    Y     670   76480         0.008760\n"
     ]
    },
    {
     "data": {
      "text/plain": [
       "Text(0.5, 0, 'Ratio of relevance')"
      ]
     },
     "execution_count": 43,
     "metadata": {},
     "output_type": "execute_result"
    },
    {
     "data": {
      "image/png": "[encoded data removed]",
      "text/plain": [
       "<Figure size 720x432 with 1 Axes>"
      ]
     },
     "metadata": {
      "needs_background": "light"
     },
     "output_type": "display_data"
    }
   ],
   "source": [
    "df = pd.read_csv('pairings.csv')\n",
    "df.drop(columns=['epitope','Off2','Res1','Off1','property1','property2','property3',\n",
    "                 'property4','gray_value'],inplace = True)\n",
    "for un in df['Res2'].unique():\n",
    "    df[un] = df['cdr3'].str.count(un)\n",
    "df.drop(columns=['cdr3'],inplace = True)\n",
    "mappa = {}\n",
    "for column in df.columns[1:]:\n",
    "    mappa[column] = df[column].sum()\n",
    "df = df.groupby(['Res2']).size().reset_index(name='counts')\n",
    "df['total'] = df['Res2'].map(mappa)\n",
    "df['relevance_ratio'] = df['counts']/df['total']\n",
    "print(df)\n",
    "df.drop(columns=['counts','total'],inplace = True)\n",
    "ratioed = pd.DataFrame({'relevance_ratio': df['relevance_ratio'].tolist()},\n",
    "                         index=df['Res2'].tolist()).sort_values(by='relevance_ratio')\n",
    "ax = ratioed.plot(title = 'Ratioed relevance of the residue over dataset for epitope residues',\n",
    "                       color=plt.cm.Paired(np.arange(len(df))), kind='barh', grid = True, rot = 1, legend = False, figsize=(10,6))\n",
    "\n",
    "ax.set_xlabel(\"Ratio of relevance\")"
   ]
  },
  {
   "cell_type": "code",
   "execution_count": 44,
   "metadata": {},
   "outputs": [
    {
     "data": {
      "text/plain": [
       "Text(0.5, 0, 'Residues')"
      ]
     },
     "execution_count": 44,
     "metadata": {},
     "output_type": "execute_result"
    },
    {
     "data": {
      "image/png": "[encoded data removed]",
      "text/plain": [
       "<Figure size 864x432 with 2 Axes>"
      ]
     },
     "metadata": {
      "needs_background": "light"
     },
     "output_type": "display_data"
    }
   ],
   "source": [
    "df1 = pd.read_csv('pairings.csv')\n",
    "f, axes = plt.subplots(1, 2, sharey=True)\n",
    "df1['Res1'].value_counts(normalize=True).plot(ax=axes[0],title = 'CDR3 Residues\\' counts', color=plt.cm.Paired(np.arange(len(df1))),\n",
    "                                                   grid = True, kind='bar', rot = 1, legend = False, figsize=(12,6))\n",
    "\n",
    "df1['Res2'].value_counts(normalize = True).plot(ax=axes[1],title = 'Epitope Residues\\' counts', color=plt.cm.Paired(np.arange(len(df1))), grid = True,\n",
    "                                                     kind='bar', rot = 1, legend = False, figsize=(12,6))\n",
    "\n",
    "axes[0].set_ylabel(\"Ratio\")\n",
    "axes[0].set_xlabel(\"Residues\")\n",
    "axes[1].set_xlabel(\"Residues\")\n"
   ]
  },
  {
   "cell_type": "code",
   "execution_count": 45,
   "metadata": {},
   "outputs": [
    {
     "name": "stdout",
     "output_type": "stream",
     "text": [
      "   Res1  counts   total  relevance_ratio  count_ratio\n",
      "0     A    5902  138433         0.042634     0.062452\n",
      "1     C     331   95158         0.003478     0.003502\n",
      "2     D    4453   40358         0.110337     0.047120\n",
      "3     E    5540   69856         0.079306     0.058622\n",
      "4     F    2586  139958         0.018477     0.027364\n",
      "5     G   15903  135766         0.117135     0.168279\n",
      "6     H     766   12808         0.059806     0.008105\n",
      "7     I    1953   25283         0.077246     0.020666\n",
      "8     K    1733   17604         0.098444     0.018338\n",
      "9     L    5370   64522         0.083227     0.056823\n",
      "10    M     836    8036         0.104032     0.008846\n",
      "11    N    5698   48403         0.117720     0.060294\n",
      "12    P    3846   37660         0.102124     0.040697\n",
      "13    Q    4627   78927         0.058624     0.048961\n",
      "14    R    4197   42219         0.099410     0.044411\n",
      "15    S   14886  188174         0.079108     0.157517\n",
      "16    T    7512   84961         0.088417     0.079489\n",
      "17    V    2728   35173         0.077559     0.028867\n",
      "18    W     808    8988         0.089898     0.008550\n",
      "19    Y    4829   76480         0.063141     0.051098\n",
      "   Res2  counts   total  relevance_ratio  count_ratio\n",
      "0     A    4587  138433         0.033135     0.048538\n",
      "1     C     983   95158         0.010330     0.010402\n",
      "2     D    1257   40358         0.031146     0.013301\n",
      "3     E    1679   69856         0.024035     0.017766\n",
      "4     F    6389  139958         0.045649     0.067606\n",
      "5     G    6742  135766         0.049659     0.071341\n",
      "6     H     470   12808         0.036696     0.004973\n",
      "7     I   10603   25283         0.419373     0.112196\n",
      "8     K    2594   17604         0.147353     0.027449\n",
      "9     L   18127   64522         0.280943     0.191812\n",
      "10    M    3948    8036         0.491289     0.041776\n",
      "11    N    3781   48403         0.078115     0.040009\n",
      "12    P    3201   37660         0.084997     0.033872\n",
      "13    Q     356   78927         0.004510     0.003767\n",
      "14    R    6747   42219         0.159810     0.071394\n",
      "15    S     887  188174         0.004714     0.009386\n",
      "16    T    1170   84961         0.013771     0.012380\n",
      "17    V   17790   35173         0.505786     0.188246\n",
      "18    W    2523    8988         0.280708     0.026697\n",
      "19    Y     670   76480         0.008760     0.007090\n"
     ]
    },
    {
     "data": {
      "text/plain": [
       "Text(0.5, 0, 'Residues')"
      ]
     },
     "execution_count": 45,
     "metadata": {},
     "output_type": "execute_result"
    },
    {
     "data": {
      "image/png": "[encoded data removed]",
      "text/plain": [
       "<Figure size 1152x576 with 2 Axes>"
      ]
     },
     "metadata": {
      "needs_background": "light"
     },
     "output_type": "display_data"
    }
   ],
   "source": [
    "df = pd.read_csv('pairings.csv')\n",
    "n_rows = len(df)\n",
    "df.drop(columns=['epitope','Off2','Res2','Off1','property1','property2','property3',\n",
    "                 'property4','gray_value'],inplace = True)\n",
    "for un in df['Res1'].unique():\n",
    "    df[un] = df['cdr3'].str.count(un)\n",
    "df.drop(columns=['cdr3'],inplace = True)\n",
    "mappa = {}\n",
    "for column in df.columns[1:]:\n",
    "    mappa[column] = df[column].sum()\n",
    "df = df.groupby(['Res1']).size().reset_index(name='counts')\n",
    "df['total'] = df['Res1'].map(mappa)\n",
    "df['relevance_ratio'] = df['counts']/df['total']\n",
    "df['count_ratio'] = df['counts']/n_rows\n",
    "print(df)\n",
    "df.drop(columns=['counts','total'],inplace = True)\n",
    "ratioed = pd.DataFrame({'relevance_ratio': df['relevance_ratio'].tolist(),\n",
    "                       'count_ratio': df['count_ratio'].tolist()},\n",
    "                         index=df['Res1'].tolist())\n",
    "ratioed['count_ratio'] = df1['Res1'].value_counts(normalize=True)\n",
    "\n",
    "\n",
    "\n",
    "df = pd.read_csv('pairings.csv')\n",
    "df.drop(columns=['epitope','Off2','Res1','Off1','property1','property2','property3',\n",
    "                 'property4','gray_value'],inplace = True)\n",
    "for un in df['Res2'].unique():\n",
    "    df[un] = df['cdr3'].str.count(un)\n",
    "df.drop(columns=['cdr3'],inplace = True)\n",
    "mappa = {}\n",
    "for column in df.columns[1:]:\n",
    "    mappa[column] = df[column].sum()\n",
    "df = df.groupby(['Res2']).size().reset_index(name='counts')\n",
    "df['total'] = df['Res2'].map(mappa)\n",
    "df['relevance_ratio'] = df['counts']/df['total']\n",
    "df['count_ratio'] = df['counts']/n_rows\n",
    "print(df)\n",
    "df.drop(columns=['counts','total'],inplace = True)\n",
    "ratioed2 = pd.DataFrame({'relevance_ratio': df['relevance_ratio'].tolist(),\n",
    "                        'count_ratio': df['count_ratio'].tolist()},\n",
    "                         index=df['Res2'].tolist())\n",
    "\n",
    "\n",
    "\n",
    "f, axes = plt.subplots(1, 2, sharey=True)\n",
    "ratioed.sort_values(by=['count_ratio'], ascending=False).plot(ax=axes[0],title = 'CDR3 Residues\\' ratios', color=plt.cm.Paired(np.arange(len(df1))),\n",
    "                                                   grid = True, kind='bar', rot = 1, figsize=(16,8))\n",
    "\n",
    "ratioed2.sort_values(by=['count_ratio'], ascending=False).plot(ax=axes[1],title = 'Epitope Residues\\' ratios', color=plt.cm.Paired(np.arange(len(df1))), grid = True,\n",
    "                                                     kind='bar', rot = 1,figsize=(16,8))\n",
    "\n",
    "axes[0].set_ylabel(\"Ratio\")\n",
    "axes[0].set_xlabel(\"Residues\")\n",
    "axes[1].set_xlabel(\"Residues\")"
   ]
  },
  {
   "cell_type": "code",
   "execution_count": 46,
   "metadata": {},
   "outputs": [
    {
     "data": {
      "image/png": "[encoded data removed]",
      "text/plain": [
       "<Figure size 864x576 with 1 Axes>"
      ]
     },
     "metadata": {
      "needs_background": "light"
     },
     "output_type": "display_data"
    }
   ],
   "source": [
    "df2 = pd.read_csv('pairings.csv')\n",
    "length = len(df2)\n",
    "df2.drop(columns=['cdr3','epitope','Off2','Res2','Off1','property1','property2','property3','property4'],inplace = True)\n",
    "df2['count'] = df2['Res1'].map(df2['Res1'].value_counts())\n",
    "df2 = df2.groupby(['Res1','count']).sum()\n",
    "df2.reset_index(inplace = True)\n",
    "df2['normalized_by_freq']=df2['gray_value']/df2['count']\n",
    "df2['normalized relevance']=(df2['normalized_by_freq']-df2['normalized_by_freq'].min()) / (df2['normalized_by_freq'].max()-df2['normalized_by_freq'].min())\n",
    "df2['normalized count'] = df2['count']/length\n",
    "coupled = pd.DataFrame({'normalized relevance': df2['normalized relevance'].tolist(),\n",
    "                        'normalized count': df2['normalized count'].tolist()},\n",
    "                         index=df2['Res1'].tolist()).sort_values(by='normalized count')\n",
    "coupled.drop(coupled[coupled['normalized count'] < 0.01].index, inplace=True)\n",
    "ax = coupled.plot.barh(title = 'Normalized counts and pixel relevance for CDR3 residues', figsize=(12,8))"
   ]
  },
  {
   "cell_type": "code",
   "execution_count": 47,
   "metadata": {},
   "outputs": [
    {
     "data": {
      "text/plain": [
       "<matplotlib.axes._subplots.AxesSubplot at 0x7f8b532a9820>"
      ]
     },
     "execution_count": 47,
     "metadata": {},
     "output_type": "execute_result"
    },
    {
     "data": {
      "image/png": "[encoded data removed]",
      "text/plain": [
       "<Figure size 864x576 with 1 Axes>"
      ]
     },
     "metadata": {
      "needs_background": "light"
     },
     "output_type": "display_data"
    }
   ],
   "source": [
    "df3 = pd.read_csv('pairings.csv')\n",
    "df3.drop(columns=['cdr3','epitope','Off2','Res1','Off1','property1','property2','property3','property4'],inplace = True)\n",
    "df3['count'] = df3['Res2'].map(df3['Res2'].value_counts())\n",
    "df3 = df3.groupby(['Res2','count']).sum()\n",
    "df3.reset_index(inplace = True)\n",
    "df3['normalized_by_freq']=df3['gray_value']/df3['count']\n",
    "df3['normalized relevance']=(df3['normalized_by_freq']-df3['normalized_by_freq'].min()) / (df3['normalized_by_freq'].max()-df3['normalized_by_freq'].min())\n",
    "df3['normalized count'] = df3['count']/length\n",
    "coupled = pd.DataFrame({'normalized relevance': df3['normalized relevance'].tolist(),\n",
    "                        'normalized count': df3['normalized count'].tolist()},\n",
    "                         index=df3['Res2'].tolist()).sort_values(by='normalized count')\n",
    "coupled.drop(coupled[coupled['normalized count'] < 0.01].index, inplace=True)\n",
    "coupled.plot.barh(title = 'Normalized counts and pixel relevance for epitope residues', figsize=(12,8))"
   ]
  },
  {
   "cell_type": "code",
   "execution_count": 48,
   "metadata": {},
   "outputs": [
    {
     "data": {
      "text/plain": [
       "<matplotlib.axes._subplots.AxesSubplot at 0x7f8b52f62dc0>"
      ]
     },
     "execution_count": 48,
     "metadata": {},
     "output_type": "execute_result"
    },
    {
     "data": {
      "image/png": "[encoded data removed]",
      "text/plain": [
       "<Figure size 720x720 with 1 Axes>"
      ]
     },
     "metadata": {
      "needs_background": "light"
     },
     "output_type": "display_data"
    }
   ],
   "source": [
    "pairdf = pd.read_csv('pairings.csv')\n",
    "n_pairs = len(pairdf)\n",
    "pairdf.drop(columns=['cdr3','epitope','Off2','Off1','property1','property2','property3','property4'],inplace = True)\n",
    "pairdf = pairdf.groupby([\"Res1\",'Res2']).size().reset_index()\n",
    "pairdf = pairdf.set_axis(['Res1','Res2','CountRatio'], axis = 1)\n",
    "pairdf['CountRatio'] = pairdf['CountRatio']/n_pairs\n",
    "pairdf['Pair'] = pairdf['Res1'] + '-' + pairdf['Res2']\n",
    "pairdf.drop(columns=['Res1','Res2'], inplace = True)\n",
    "pairdf = pairdf.set_index('Pair')\n",
    "pairdf.drop(pairdf[pairdf['CountRatio'] < 0.01].index, inplace=True)\n",
    "pairdf.sort_values(by = 'CountRatio').plot(kind = 'barh', figsize=(10,10),color=plt.cm.Paired(np.arange(len(pairdf))), grid = True, legend = False)"
   ]
  },
  {
   "cell_type": "code",
   "execution_count": 49,
   "metadata": {},
   "outputs": [
    {
     "data": {
      "text/plain": [
       "<matplotlib.axes._subplots.AxesSubplot at 0x7f8b57edf880>"
      ]
     },
     "execution_count": 49,
     "metadata": {},
     "output_type": "execute_result"
    },
    {
     "data": {
      "image/png": "[encoded data removed]",
      "text/plain": [
       "<Figure size 864x576 with 1 Axes>"
      ]
     },
     "metadata": {
      "needs_background": "light"
     },
     "output_type": "display_data"
    }
   ],
   "source": [
    "pairdf2 = pd.read_csv('pairings.csv')\n",
    "pairdf2['Pair'] = pairdf2['Res1'] + '-' + pairdf2['Res2']\n",
    "pairdf2.drop(columns=['cdr3','epitope','Off2','Off1','Res1','Res2','property1','property2','property3','property4'],inplace = True)\n",
    "pairdf2['count'] = pairdf2['Pair'].map(pairdf2['Pair'].value_counts())\n",
    "pairdf2 = pairdf2.groupby(['Pair', 'count']).sum()\n",
    "pairdf2.reset_index(inplace = True)\n",
    "pairdf2['normalized_by_freq']=pairdf2['gray_value']/pairdf2['count']\n",
    "pairdf2['normalized count'] = pairdf2['count']/length\n",
    "pairdf2['normalized relevance']=(pairdf2['normalized_by_freq']-pairdf2['normalized_by_freq'].min()) / (pairdf2['normalized_by_freq'].max()-pairdf2['normalized_by_freq'].min())\n",
    "paired = pd.DataFrame({'normalized relevance': pairdf2['normalized relevance'].tolist(),\n",
    "                        'normalized count': pairdf2['normalized count'].tolist()},\n",
    "                         index=pairdf2['Pair'].tolist()).sort_values(by='normalized count')\n",
    "paired.drop(paired[paired['normalized count'] < 0.01].index, inplace=True)\n",
    "paired.plot.barh(title = 'Normalized counts and pixel relevance for epitope residues', figsize=(12,8),color=plt.cm.Paired(np.arange(len(pairdf))))"
   ]
  },
  {
   "cell_type": "markdown",
   "metadata": {},
   "source": [
    "# 3D Analysis"
   ]
  },
  {
   "cell_type": "code",
   "execution_count": 25,
   "metadata": {},
   "outputs": [],
   "source": [
    "def fasta2pdb_mapper(pdb_filepath, pdb_id, model, chain, fasta_seq):\n",
    "    parser = PDBParser(QUIET=True)\n",
    "    structure = parser.get_structure(pdb_id, pdb_filepath)\n",
    "    pdb_tcrb_chain = structure[model][chain]\n",
    "    pdb_tcrb_sel = Selection.unfold_entities(pdb_tcrb_chain, \"R\")\n",
    "    pdb_tcrb_seq = ''\n",
    "    pdb_tcrb_id_seq = []\n",
    "    for r in pdb_tcrb_sel:\n",
    "        if r.get_id()[0] == ' ':\n",
    "            pdb_tcrb_seq += protein_letters_3to1[r.get_resname().title()]\n",
    "            pdb_tcrb_id_seq.append(r.get_id()[1])\n",
    "    aligner = Align.PairwiseAligner()\n",
    "    alignment = aligner.align(pdb_tcrb_seq, fasta_seq)[0]\n",
    "    pdb_aligned, fasta_aligned = alignment.aligned\n",
    "    pdb2fasta_mapper = {}\n",
    "    for pdb_chunck, fasta_chunk in zip(pdb_aligned, fasta_aligned):\n",
    "        for pdb_chunck_id, fasta_chunk_id in zip(range(pdb_chunck[0], pdb_chunck[1]),\n",
    "                                                 range(fasta_chunk[0], fasta_chunk[1])):\n",
    "            pdb_numbering_id = pdb_tcrb_id_seq[pdb_chunck_id]\n",
    "            pdb2fasta_mapper[pdb_numbering_id] = fasta_chunk_id\n",
    "    return pdb2fasta_mapper"
   ]
  },
  {
   "cell_type": "code",
   "execution_count": 28,
   "metadata": {},
   "outputs": [
    {
     "name": "stdout",
     "output_type": "stream",
     "text": [
      "2021-08-15 22:35:35,133 - root - INFO - CLI argument batch_size: 128\n",
      "2021-08-15 22:35:35,133 - root - INFO - CLI argument cdr3_column: 'cdr3'\n",
      "2021-08-15 22:35:35,134 - root - INFO - CLI argument epitope_column: 'antigen.epitope'\n",
      "2021-08-15 22:35:35,134 - root - INFO - CLI argument features: 'hydrophob,isoelectric,mass,hydrophil'\n",
      "2021-08-15 22:35:35,134 - root - INFO - CLI argument images_dir: '/Users/fabio_air/Desktop/ImRex-master/deepTCR/Images_3D/'\n",
      "2021-08-15 22:35:35,135 - root - INFO - CLI argument input: '/Users/fabio_air/Desktop/ImRex-master/deepTCR/complex_data.csv'\n",
      "2021-08-15 22:35:35,135 - root - INFO - CLI argument max_length_cdr3: 20\n",
      "2021-08-15 22:35:35,135 - root - INFO - CLI argument max_length_epitope: 11\n",
      "2021-08-15 22:35:35,135 - root - INFO - CLI argument min_length_cdr3: 10\n",
      "2021-08-15 22:35:35,135 - root - INFO - CLI argument min_length_epitope: 8\n",
      "2021-08-15 22:35:35,135 - root - INFO - CLI argument model: '/Users/fabio_air/Desktop/ImRex-master/models/pretrained/2020-07-24_19-18-39_trbmhcidown-shuffle-padded-b32-lre4-reg001/2020-07-24_19-18-39_trbmhcidown-shuffle-padded-b32-lre4-reg001.h5'\n",
      "2021-08-15 22:35:35,135 - root - INFO - CLI argument model_type: 'padded'\n",
      "2021-08-15 22:35:35,135 - root - INFO - CLI argument operator: 'absdiff'\n",
      "2021-08-15 22:35:35,136 - root - INFO - CLI argument output: '/Users/fabio_air/Desktop/ImRex-master/deepTCR/output-3D.csv'\n",
      "2021-08-15 22:35:35,136 - root - INFO - CLI argument sep: ';'\n",
      "2021-08-15 22:35:35,148 - __main__ - INFO - features: [Hydrophobicity(), IsoelectricPoint(), Mass(), Hydrophilicity()]\n",
      "2021-08-15 22:35:35,149 - __main__ - INFO - operator: AbsDifferenceOperator()\n",
      "2021-08-15 22:35:35,149 - __main__ - INFO - Filtered CDR3 sequences to length: (10, 20)\n",
      "2021-08-15 22:35:35,149 - __main__ - INFO - Filtered epitope sequences to length: (8, 11)\n",
      "2021-08-15 22:35:36,258 - __main__ - INFO - Saved predictions in /Users/fabio_air/Desktop/ImRex-master/deepTCR/output-3D.csv.\n"
     ]
    }
   ],
   "source": [
    "# cmd to generate the predictions based on the complex_data.csv sequences\n",
    "!python /Users/fabio_air/Desktop/ImRex-master/src/scripts/predict/predict.py --model /Users/fabio_air/Desktop/ImRex-master/models/pretrained/2020-07-24_19-18-39_trbmhcidown-shuffle-padded-b32-lre4-reg001/2020-07-24_19-18-39_trbmhcidown-shuffle-padded-b32-lre4-reg001.h5 --input /Users/fabio_air/Desktop/ImRex-master/deepTCR/complex_data.csv --output /Users/fabio_air/Desktop/ImRex-master/deepTCR/output-3D.csv --images_dir /Users/fabio_air/Desktop/ImRex-master/deepTCR/Images_3D/"
   ]
  },
  {
   "cell_type": "code",
   "execution_count": 26,
   "metadata": {},
   "outputs": [
    {
     "name": "stdout",
     "output_type": "stream",
     "text": [
      "Downloaded: 1ao7.pdb\n",
      "Downloaded: 1bd2.pdb\n",
      "Downloaded: 1mi5.pdb\n",
      "Downloaded: 1oga.pdb\n",
      "Downloaded: 1qrn.pdb\n",
      "Downloaded: 1qse.pdb\n",
      "Downloaded: 1qsf.pdb\n",
      "Downloaded: 2ak4.pdb\n",
      "Downloaded: 2bnq.pdb\n",
      "Downloaded: 2bnr.pdb\n",
      "Downloaded: 2esv.pdb\n",
      "Downloaded: 2f53.pdb\n",
      "Downloaded: 2f54.pdb\n",
      "Downloaded: 2gj6.pdb\n",
      "Downloaded: 2nx5.pdb\n",
      "Downloaded: 2p5e.pdb\n",
      "Downloaded: 2p5w.pdb\n",
      "Downloaded: 2pye.pdb\n",
      "Downloaded: 2vlj.pdb\n",
      "Downloaded: 2vlk.pdb\n",
      "Downloaded: 2vlr.pdb\n",
      "Downloaded: 2ypl.pdb\n",
      "Downloaded: 3d39.pdb\n",
      "Downloaded: 3d3v.pdb\n"
     ]
    },
    {
     "data": {
      "text/plain": [
       "0     None\n",
       "1     None\n",
       "2     None\n",
       "3     None\n",
       "4     None\n",
       "5     None\n",
       "6     None\n",
       "7     None\n",
       "8     None\n",
       "9     None\n",
       "10    None\n",
       "11    None\n",
       "12    None\n",
       "13    None\n",
       "14    None\n",
       "15    None\n",
       "16    None\n",
       "17    None\n",
       "18    None\n",
       "19    None\n",
       "20    None\n",
       "21    None\n",
       "22    None\n",
       "23    None\n",
       "Name: PDB_ID, dtype: object"
      ]
     },
     "execution_count": 26,
     "metadata": {},
     "output_type": "execute_result"
    }
   ],
   "source": [
    "# pdb files scraping\n",
    "def scrape_pdb(file_name):\n",
    "    \n",
    "    pdb_dir = './pdb_files/'\n",
    "    base_url = 'https://www.rcsb.org/structure/'\n",
    "    \n",
    "    url = base_url + file_name.lower()\n",
    "    response = requests.get(url,timeout=None)\n",
    "    html = response.text\n",
    "    soup = BeautifulSoup(html, \"html.parser\")\n",
    "    \n",
    "    a = soup.find('a', href=lambda x: x and x.endswith('download/' + file_name +'.pdb'))\n",
    "    \n",
    "    try:\n",
    "        urllib.request.urlretrieve('https:' + a['href'], pdb_dir + file_name.lower() +'.pdb')\n",
    "        print('Downloaded: ' + file_name.lower() +'.pdb')\n",
    "    except Exception as e:\n",
    "        print('Failed Download:' + e)\n",
    "\n",
    "comps = pd.read_csv('complex_data.csv', sep=';')\n",
    "comps['PDB_ID'].apply(scrape_pdb)"
   ]
  },
  {
   "cell_type": "code",
   "execution_count": 27,
   "metadata": {},
   "outputs": [
    {
     "name": "stderr",
     "output_type": "stream",
     "text": [
      "<ipython-input-27-7e45a966e2b2>:21: DeprecationWarning: use options instead of chrome_options\n",
      "  driver = webdriver.Chrome(chromedriver_dir, chrome_options=options)\n"
     ]
    },
    {
     "name": "stdout",
     "output_type": "stream",
     "text": [
      "Waiting\n",
      "Waiting\n",
      "Waiting\n",
      "Waiting\n",
      "Waiting\n",
      "Waiting\n",
      "Waiting\n",
      "Waiting\n",
      "Waiting\n",
      "Waiting\n",
      "Waiting\n",
      "Waiting\n",
      "Waiting\n",
      "Waiting\n",
      "Waiting\n"
     ]
    },
    {
     "ename": "KeyboardInterrupt",
     "evalue": "",
     "output_type": "error",
     "traceback": [
      "\u001b[0;31m---------------------------------------------------------------------------\u001b[0m",
      "\u001b[0;31mKeyboardInterrupt\u001b[0m                         Traceback (most recent call last)",
      "\u001b[0;32m<ipython-input-27-7e45a966e2b2>\u001b[0m in \u001b[0;36m<module>\u001b[0;34m\u001b[0m\n\u001b[1;32m     53\u001b[0m         \u001b[0mos\u001b[0m\u001b[0;34m.\u001b[0m\u001b[0mremove\u001b[0m\u001b[0;34m(\u001b[0m\u001b[0mdownload_dir\u001b[0m \u001b[0;34m+\u001b[0m \u001b[0mfile_name\u001b[0m \u001b[0;34m+\u001b[0m \u001b[0;34m'_txt.zip'\u001b[0m\u001b[0;34m)\u001b[0m\u001b[0;34m\u001b[0m\u001b[0;34m\u001b[0m\u001b[0m\n\u001b[1;32m     54\u001b[0m \u001b[0;34m\u001b[0m\u001b[0m\n\u001b[0;32m---> 55\u001b[0;31m \u001b[0;34m[\u001b[0m\u001b[0mscrape_contact\u001b[0m\u001b[0;34m(\u001b[0m\u001b[0mx\u001b[0m\u001b[0;34m,\u001b[0m \u001b[0my\u001b[0m\u001b[0;34m,\u001b[0m \u001b[0mz\u001b[0m\u001b[0;34m)\u001b[0m \u001b[0;32mfor\u001b[0m \u001b[0mx\u001b[0m\u001b[0;34m,\u001b[0m \u001b[0my\u001b[0m\u001b[0;34m,\u001b[0m \u001b[0mz\u001b[0m \u001b[0;32min\u001b[0m \u001b[0mzip\u001b[0m\u001b[0;34m(\u001b[0m\u001b[0mcomps\u001b[0m\u001b[0;34m[\u001b[0m\u001b[0;34m'PDB_ID'\u001b[0m\u001b[0;34m]\u001b[0m\u001b[0;34m,\u001b[0m \u001b[0mcomps\u001b[0m\u001b[0;34m[\u001b[0m\u001b[0;34m'epitope_chain'\u001b[0m\u001b[0;34m]\u001b[0m\u001b[0;34m,\u001b[0m \u001b[0mcomps\u001b[0m\u001b[0;34m[\u001b[0m\u001b[0;34m'tcrb_chain'\u001b[0m\u001b[0;34m]\u001b[0m\u001b[0;34m)\u001b[0m\u001b[0;34m]\u001b[0m\u001b[0;34m\u001b[0m\u001b[0;34m\u001b[0m\u001b[0m\n\u001b[0m",
      "\u001b[0;32m<ipython-input-27-7e45a966e2b2>\u001b[0m in \u001b[0;36m<listcomp>\u001b[0;34m(.0)\u001b[0m\n\u001b[1;32m     53\u001b[0m         \u001b[0mos\u001b[0m\u001b[0;34m.\u001b[0m\u001b[0mremove\u001b[0m\u001b[0;34m(\u001b[0m\u001b[0mdownload_dir\u001b[0m \u001b[0;34m+\u001b[0m \u001b[0mfile_name\u001b[0m \u001b[0;34m+\u001b[0m \u001b[0;34m'_txt.zip'\u001b[0m\u001b[0;34m)\u001b[0m\u001b[0;34m\u001b[0m\u001b[0;34m\u001b[0m\u001b[0m\n\u001b[1;32m     54\u001b[0m \u001b[0;34m\u001b[0m\u001b[0m\n\u001b[0;32m---> 55\u001b[0;31m \u001b[0;34m[\u001b[0m\u001b[0mscrape_contact\u001b[0m\u001b[0;34m(\u001b[0m\u001b[0mx\u001b[0m\u001b[0;34m,\u001b[0m \u001b[0my\u001b[0m\u001b[0;34m,\u001b[0m \u001b[0mz\u001b[0m\u001b[0;34m)\u001b[0m \u001b[0;32mfor\u001b[0m \u001b[0mx\u001b[0m\u001b[0;34m,\u001b[0m \u001b[0my\u001b[0m\u001b[0;34m,\u001b[0m \u001b[0mz\u001b[0m \u001b[0;32min\u001b[0m \u001b[0mzip\u001b[0m\u001b[0;34m(\u001b[0m\u001b[0mcomps\u001b[0m\u001b[0;34m[\u001b[0m\u001b[0;34m'PDB_ID'\u001b[0m\u001b[0;34m]\u001b[0m\u001b[0;34m,\u001b[0m \u001b[0mcomps\u001b[0m\u001b[0;34m[\u001b[0m\u001b[0;34m'epitope_chain'\u001b[0m\u001b[0;34m]\u001b[0m\u001b[0;34m,\u001b[0m \u001b[0mcomps\u001b[0m\u001b[0;34m[\u001b[0m\u001b[0;34m'tcrb_chain'\u001b[0m\u001b[0;34m]\u001b[0m\u001b[0;34m)\u001b[0m\u001b[0;34m]\u001b[0m\u001b[0;34m\u001b[0m\u001b[0;34m\u001b[0m\u001b[0m\n\u001b[0m",
      "\u001b[0;32m<ipython-input-27-7e45a966e2b2>\u001b[0m in \u001b[0;36mscrape_contact\u001b[0;34m(file_name, epitope_chain, tcrb_chain)\u001b[0m\n\u001b[1;32m     33\u001b[0m             \u001b[0;32mwhile\u001b[0m \u001b[0;32mnot\u001b[0m \u001b[0mos\u001b[0m\u001b[0;34m.\u001b[0m\u001b[0mpath\u001b[0m\u001b[0;34m.\u001b[0m\u001b[0mexists\u001b[0m\u001b[0;34m(\u001b[0m\u001b[0mdownload_dir\u001b[0m \u001b[0;34m+\u001b[0m \u001b[0mfile_name\u001b[0m \u001b[0;34m+\u001b[0m \u001b[0;34m'_txt.zip'\u001b[0m\u001b[0;34m)\u001b[0m\u001b[0;34m:\u001b[0m\u001b[0;34m\u001b[0m\u001b[0;34m\u001b[0m\u001b[0m\n\u001b[1;32m     34\u001b[0m                 \u001b[0mprint\u001b[0m\u001b[0;34m(\u001b[0m\u001b[0;34m'Waiting'\u001b[0m\u001b[0;34m)\u001b[0m\u001b[0;34m\u001b[0m\u001b[0;34m\u001b[0m\u001b[0m\n\u001b[0;32m---> 35\u001b[0;31m                 \u001b[0mtime\u001b[0m\u001b[0;34m.\u001b[0m\u001b[0msleep\u001b[0m\u001b[0;34m(\u001b[0m\u001b[0;36m2\u001b[0m\u001b[0;34m)\u001b[0m\u001b[0;34m\u001b[0m\u001b[0;34m\u001b[0m\u001b[0m\n\u001b[0m\u001b[1;32m     36\u001b[0m \u001b[0;34m\u001b[0m\u001b[0m\n\u001b[1;32m     37\u001b[0m             \u001b[0mprint\u001b[0m\u001b[0;34m(\u001b[0m\u001b[0;34m'File '\u001b[0m \u001b[0;34m+\u001b[0m \u001b[0mfile_name\u001b[0m \u001b[0;34m+\u001b[0m \u001b[0;34m'_txt.zip'\u001b[0m \u001b[0;34m+\u001b[0m \u001b[0;34m' downloaded'\u001b[0m\u001b[0;34m)\u001b[0m\u001b[0;34m\u001b[0m\u001b[0;34m\u001b[0m\u001b[0m\n",
      "\u001b[0;31mKeyboardInterrupt\u001b[0m: "
     ]
    }
   ],
   "source": [
    "def scrape_contact(file_name, epitope_chain, tcrb_chain):\n",
    "    \n",
    "    # directory where zip files will be downloaded\n",
    "    download_dir = '/Users/fabio_air/Downloads/'\n",
    "    # directory where the contact files will be placed\n",
    "    contacts_dir = './contacts/'\n",
    "    # directory where the chrome drive is stored\n",
    "    # can be downloaded here: https://chromedriver.chromium.org/\n",
    "    chromedriver_dir = '/Users/fabio_air/Downloads/chromedriver'\n",
    "    # url of the site to explore\n",
    "    base_url = 'https://www.mrc-lmb.cam.ac.uk/pca/redirect/'\n",
    "    \n",
    "    url = base_url + file_name\n",
    "    \n",
    "    # webdriver setup\n",
    "    options = webdriver.ChromeOptions()\n",
    "    options.add_argument(\"--disable-notifications\")\n",
    "    \n",
    "    # uncomment this line to hide the browser during the scraping\n",
    "    options.add_argument(\"--headless\")\n",
    "    driver = webdriver.Chrome(chromedriver_dir, chrome_options=options)\n",
    "\n",
    "    driver.get(url)\n",
    "    if not os.path.exists(download_dir + file_name + '_txt.zip'):\n",
    "        try:\n",
    "            # NOTE: the time sleeps are not the optimal solution but they are useful to allow the button\n",
    "            # to become active for it to be pressed. It should be pressed when the JS behind it becomes active\n",
    "            time.sleep(2) \n",
    "            WebDriverWait(driver, 5).until(EC.element_to_be_clickable((By.CSS_SELECTOR, \"#myModal > div > div > div.modal-header > button\"))).click()\n",
    "            time.sleep(2) \n",
    "            WebDriverWait(driver, 5).until(EC.element_to_be_clickable((By.ID, \"savecsv\"))).click()\n",
    "            \n",
    "            while not os.path.exists(download_dir + file_name + '_txt.zip'):\n",
    "                print('Waiting')\n",
    "                time.sleep(2)\n",
    "                \n",
    "            print('File ' + file_name + '_txt.zip' + ' downloaded')\n",
    "            driver.quit()\n",
    "            \n",
    "        except Exception as e:\n",
    "            driver.quit()\n",
    "            print(e)\n",
    "\n",
    "    else:\n",
    "        print('File ' + file_name + '_txt.zip' + ' already exists')\n",
    "        driver.quit()\n",
    "    \n",
    "    \n",
    "    # extract wanted contact file\n",
    "    with ZipFile(download_dir + file_name + '_txt.zip', 'r') as zip_file:\n",
    "        zip_file.extract(file_name + '_' + epitope_chain + '-' + tcrb_chain + '.txt', path = contacts_dir)\n",
    "        # remove original zip file\n",
    "        os.remove(download_dir + file_name + '_txt.zip')\n",
    "\n",
    "[scrape_contact(x, y, z) for x, y, z in zip(comps['PDB_ID'], comps['epitope_chain'], comps['tcrb_chain'])]"
   ]
  },
  {
   "cell_type": "code",
   "execution_count": 29,
   "metadata": {},
   "outputs": [],
   "source": [
    "comps = pd.read_csv('output-3D.csv')"
   ]
  },
  {
   "cell_type": "code",
   "execution_count": 30,
   "metadata": {},
   "outputs": [],
   "source": [
    "mappings = []\n",
    "for i, comp in comps.iterrows():\n",
    "    mapping = fasta2pdb_mapper('./pdb_files/' + comp['PDB_ID'].lower() + '.pdb', comp['PDB_ID'], \n",
    "                     0, comp['tcrb_chain'], comp['tcrb_seq'])\n",
    "    mappings.append(mapping)"
   ]
  },
  {
   "cell_type": "code",
   "execution_count": 31,
   "metadata": {},
   "outputs": [
    {
     "data": {
      "text/plain": [
       "TensorShape([21, 20, 11, 4])"
      ]
     },
     "execution_count": 31,
     "metadata": {},
     "output_type": "execute_result"
    }
   ],
   "source": [
    "# load images saved with pickle from predict.py\n",
    "images_path = '/Users/fabio_air/Desktop/ImRex-master/deepTCR/Images_3D/'\n",
    "analysis_3D = [] # list of pickled Tensors\n",
    "for i, comp in comps.iterrows():\n",
    "    try:\n",
    "        with open(images_path + str(comp['im_name'])+'.pkl','rb') as fil:\n",
    "            x = pkl.load(fil)\n",
    "            analysis_3D.append(x)\n",
    "    except Exception as e:\n",
    "        print(e)\n",
    "        \n",
    "analysis_3D = tf.convert_to_tensor(analysis_3D) # conversion to tensor of the list\n",
    "analysis_3D = tf.cast(analysis_3D, tf.float32) # cast to float\n",
    "analysis_3D.shape"
   ]
  },
  {
   "cell_type": "code",
   "execution_count": 65,
   "metadata": {},
   "outputs": [
    {
     "name": "stdout",
     "output_type": "stream",
     "text": [
      "1AO7_C-E.txt\n",
      "CASRPGLAGGRPEQYF LLFGYPVYV\n",
      "   Res1 Res2  Off1  Off2\n",
      "0     E    L    12     0\n",
      "1     E    F    12     2\n",
      "2     E    Y    12     4\n",
      "3     P    L    11     1\n",
      "4     P    P    11     5\n",
      "5     R    Y    10     4\n",
      "6     G    L     9     0\n",
      "7     G    F     9     2\n",
      "8     G    G     9     3\n",
      "9     G    Y     9     4\n",
      "10    G    P     9     5\n",
      "11    G    F     8     2\n",
      "12    G    G     8     3\n",
      "13    G    Y     8     4\n",
      "14    G    P     8     5\n",
      "15    A    L     7     0\n",
      "16    A    F     7     2\n",
      "17    A    G     7     3\n",
      "18    A    Y     7     4\n",
      "19    L    F     6     2\n",
      "20    L    Y     6     4\n",
      "21    L    V     6     6\n",
      "22    G    L     5     1\n",
      "23    G    F     5     2\n",
      "24    G    G     5     3\n",
      "25    P    L     4     0\n",
      "26    P    G     4     3\n",
      "27    P    V     4     6\n",
      "28    R    G     3     3\n",
      "  Res1 Res2  Off1  Off2  Distance\n",
      "0    R    Y     3     4   3.19614\n",
      "1    L    Y     6     7   3.28626\n",
      "2    P    Y    11     4   3.32289\n",
      "3    L    V     6     6   3.44522\n",
      "4    L    P     6     5   3.72806\n",
      "5    G    V     8     6   3.94879\n",
      "6    G    V     9     6   3.96587\n",
      "7    A    V     7     6   4.12421\n",
      "  Res1 Res2  Off1  Off2  Distance\n",
      "0    L    V     6     6   3.44522\n"
     ]
    },
    {
     "data": {
      "image/png": "[encoded data removed]",
      "text/plain": [
       "<Figure size 1080x720 with 3 Axes>"
      ]
     },
     "metadata": {
      "needs_background": "light"
     },
     "output_type": "display_data"
    },
    {
     "name": "stdout",
     "output_type": "stream",
     "text": [
      "1BD2_C-E.txt\n",
      "CASSYPGGGFYEQYF LLFGYPVYV\n",
      "   Res1 Res2  Off1  Off2\n",
      "0     E    V    11     6\n",
      "1     Y    F    10     2\n",
      "2     Y    G    10     3\n",
      "3     Y    Y    10     4\n",
      "4     Y    P    10     5\n",
      "5     F    L     9     0\n",
      "6     F    F     9     2\n",
      "7     F    G     9     3\n",
      "8     F    Y     9     4\n",
      "9     F    V     9     6\n",
      "10    G    F     8     2\n",
      "11    G    Y     8     4\n",
      "12    G    P     8     5\n",
      "13    G    F     7     2\n",
      "14    G    Y     7     4\n",
      "15    G    P     7     5\n",
      "16    G    L     6     0\n",
      "17    G    L     6     1\n",
      "18    G    F     6     2\n",
      "19    G    G     6     3\n",
      "20    G    Y     6     4\n",
      "21    G    V     6     6\n",
      "22    P    L     5     0\n",
      "23    P    G     5     3\n",
      "24    P    Y     5     4\n",
      "25    P    V     5     6\n",
      "26    Y    L     4     1\n",
      "  Res1 Res2  Off1  Off2  Distance\n",
      "0    G    Y     6     7   2.80044\n",
      "1    G    V     6     6   3.19990\n",
      "2    Y    Y    10     4   3.47304\n",
      "3    G    P     6     5   3.73701\n",
      "4    Y    V    10     6   3.76586\n",
      "5    Y    Y     4     7   3.87293\n",
      "6    P    V     5     6   3.97455\n",
      "7    G    V     7     6   4.06431\n",
      "  Res1 Res2  Off1  Off2  Distance\n",
      "0    Y    Y    10     4   3.47304\n",
      "1    G    V     6     6   3.19990\n",
      "2    P    V     5     6   3.97455\n"
     ]
    },
    {
     "data": {
      "image/png": "[encoded data removed]",
      "text/plain": [
       "<Figure size 1080x720 with 3 Axes>"
      ]
     },
     "metadata": {
      "needs_background": "light"
     },
     "output_type": "display_data"
    },
    {
     "name": "stdout",
     "output_type": "stream",
     "text": [
      "1MI5_C-E.txt\n",
      "CASSLGQAYEQYF FLRGRAYGL\n",
      "   Res1 Res2  Off1  Off2\n",
      "0     F    R    12     4\n",
      "1     Q    R    10     2\n",
      "2     Q    G    10     3\n",
      "3     E    F     9     0\n",
      "4     E    R     9     2\n",
      "5     Y    R     8     2\n",
      "6     A    R     7     2\n",
      "7     A    G     7     3\n",
      "8     Q    F     6     0\n",
      "9     Q    L     6     1\n",
      "10    Q    R     6     2\n",
      "11    Q    G     6     3\n",
      "12    Q    R     6     4\n",
      "13    Q    A     6     5\n",
      "14    Q    Y     6     6\n",
      "15    G    L     5     1\n",
      "16    G    G     5     3\n",
      "17    G    R     5     4\n",
      "18    L    R     4     2\n",
      "19    L    G     4     3\n",
      "20    S    R     3     2\n",
      "21    S    L     2     1\n",
      "22    S    R     2     2\n",
      "23    S    A     2     5\n",
      "  Res1 Res2  Off1  Off2  Distance\n",
      "0    Q    A     6     5   3.06054\n",
      "1    Y    G     8     7   3.22613\n",
      "2    A    Y     7     6   3.55874\n",
      "3    A    A     7     5   3.59603\n",
      "4    Y    Y     8     6   3.61390\n",
      "  Res1 Res2  Off1  Off2  Distance\n",
      "0    Q    A     6     5   3.06054\n"
     ]
    },
    {
     "data": {
      "image/png": "[encoded data removed]",
      "text/plain": [
       "<Figure size 1080x720 with 3 Axes>"
      ]
     },
     "metadata": {
      "needs_background": "light"
     },
     "output_type": "display_data"
    },
    {
     "name": "stdout",
     "output_type": "stream",
     "text": [
      "1OGA_C-E.txt\n",
      "CASSSRSSYEQYF GILGFVFTL\n",
      "   Res1 Res2  Off1  Off2\n",
      "0     Q    G    10     3\n",
      "1     Q    F    10     4\n",
      "2     E    L     9     2\n",
      "3     Y    I     8     1\n",
      "4     Y    L     8     2\n",
      "5     Y    G     8     3\n",
      "6     Y    F     8     4\n",
      "7     Y    V     8     5\n",
      "8     S    I     7     1\n",
      "9     S    L     7     2\n",
      "10    S    G     7     3\n",
      "11    S    F     7     4\n",
      "12    S    V     7     5\n",
      "13    S    I     6     1\n",
      "14    S    L     6     2\n",
      "15    S    G     6     3\n",
      "16    S    F     6     4\n",
      "17    R    F     5     4\n",
      "18    R    V     5     5\n",
      "19    S    F     4     4\n",
      "20    S    V     4     5\n",
      "21    S    G     3     3\n",
      "22    S    F     3     4\n",
      "23    S    V     3     5\n",
      "  Res1 Res2  Off1  Off2  Distance\n",
      "0    S    V     6     5   3.09078\n",
      "1    R    F     5     4   3.78413\n",
      "2    S    F     7     4   3.81887\n",
      "3    R    F     5     6   4.16060\n",
      "  Res1 Res2  Off1  Off2  Distance\n",
      "0    S    F     7     4   3.81887\n",
      "1    R    F     5     4   3.78413\n"
     ]
    },
    {
     "data": {
      "image/png": "[encoded data removed]",
      "text/plain": [
       "<Figure size 1080x720 with 3 Axes>"
      ]
     },
     "metadata": {
      "needs_background": "light"
     },
     "output_type": "display_data"
    },
    {
     "name": "stdout",
     "output_type": "stream",
     "text": [
      "1QRN_C-E.txt\n",
      "CASRPGLAGGRPEQYF LLFGYAVYV\n",
      "   Res1 Res2  Off1  Off2\n",
      "0     E    G    12     3\n",
      "1     P    L    11     1\n",
      "2     P    G    11     3\n",
      "3     R    L    10     1\n",
      "4     R    Y    10     4\n",
      "5     R    A    10     5\n",
      "6     G    F     9     2\n",
      "7     G    Y     9     4\n",
      "8     G    A     9     5\n",
      "9     G    L     8     0\n",
      "10    G    F     8     2\n",
      "11    G    G     8     3\n",
      "12    G    Y     8     4\n",
      "13    G    A     8     5\n",
      "14    G    V     8     6\n",
      "15    A    L     7     0\n",
      "16    A    F     7     2\n",
      "17    A    G     7     3\n",
      "18    A    Y     7     4\n",
      "19    A    A     7     5\n",
      "20    A    V     7     6\n",
      "21    L    G     6     3\n",
      "22    L    A     6     5\n",
      "23    G    L     5     1\n",
      "24    G    F     5     2\n",
      "25    P    F     4     2\n",
      "26    P    G     4     3\n",
      "27    P    A     4     5\n",
      "28    R    G     3     3\n",
      "  Res1 Res2  Off1  Off2  Distance\n",
      "0    L    Y     6     7   3.04226\n",
      "1    P    Y    11     4   3.31318\n",
      "2    L    A     6     5   3.40197\n",
      "3    L    V     6     6   3.40660\n",
      "4    A    V     7     6   3.52425\n",
      "5    R    Y     3     4   3.61364\n",
      "6    G    V     8     6   3.81158\n",
      "7    G    V     9     6   3.99816\n",
      "  Res1 Res2  Off1  Off2  Distance\n",
      "0    G    V     8     6   3.81158\n",
      "1    A    V     7     6   3.52425\n",
      "2    L    A     6     5   3.40197\n"
     ]
    },
    {
     "data": {
      "image/png": "[encoded data removed]",
      "text/plain": [
       "<Figure size 1080x720 with 3 Axes>"
      ]
     },
     "metadata": {
      "needs_background": "light"
     },
     "output_type": "display_data"
    },
    {
     "name": "stdout",
     "output_type": "stream",
     "text": [
      "1QSE_C-E.txt\n",
      "CASRPGLAGGRPEQYF LLFGYPRYV\n",
      "   Res1 Res2  Off1  Off2\n",
      "0     Q    F    13     2\n",
      "1     E    P    12     5\n",
      "2     R    L    10     0\n",
      "3     G    F     9     2\n",
      "4     G    G     9     3\n",
      "5     G    P     9     5\n",
      "6     G    L     8     0\n",
      "7     G    L     8     1\n",
      "8     G    G     8     3\n",
      "9     G    Y     8     4\n",
      "10    G    R     8     6\n",
      "11    A    L     7     0\n",
      "12    A    F     7     2\n",
      "13    A    G     7     3\n",
      "14    A    Y     7     4\n",
      "15    A    P     7     5\n",
      "16    L    L     6     1\n",
      "17    L    F     6     2\n",
      "18    L    G     6     3\n",
      "19    L    Y     6     4\n",
      "20    L    P     6     5\n",
      "21    L    R     6     6\n",
      "22    G    L     5     1\n",
      "23    G    F     5     2\n",
      "24    G    G     5     3\n",
      "25    G    Y     5     4\n",
      "26    G    P     5     5\n",
      "27    P    F     4     2\n",
      "28    P    G     4     3\n",
      "  Res1 Res2  Off1  Off2  Distance\n",
      "0    G    R     9     6   2.54933\n",
      "1    A    R     7     6   2.83217\n",
      "2    G    R     5     6   2.84306\n",
      "3    L    Y     6     7   3.35322\n",
      "4    P    Y    11     4   3.47037\n",
      "5    P    R     4     6   3.71806\n",
      "6    L    R     6     6   3.88496\n",
      "  Res1 Res2  Off1  Off2  Distance\n",
      "0    L    R     6     6   3.88496\n"
     ]
    },
    {
     "data": {
      "image/png": "[encoded data removed]",
      "text/plain": [
       "<Figure size 1080x720 with 3 Axes>"
      ]
     },
     "metadata": {
      "needs_background": "light"
     },
     "output_type": "display_data"
    },
    {
     "name": "stdout",
     "output_type": "stream",
     "text": [
      "1QSF_C-E.txt\n",
      "CASRPGLAGGRPEQYF LLFGYPVAV\n",
      "   Res1 Res2  Off1  Off2\n",
      "0     E    G    12     3\n",
      "1     P    G    11     3\n",
      "2     R    L    10     1\n",
      "3     R    Y    10     4\n",
      "4     R    P    10     5\n",
      "5     G    L     9     0\n",
      "6     G    F     9     2\n",
      "7     G    G     9     3\n",
      "8     G    Y     9     4\n",
      "9     G    P     9     5\n",
      "10    G    L     8     1\n",
      "11    G    F     8     2\n",
      "12    G    G     8     3\n",
      "13    G    Y     8     4\n",
      "14    A    L     7     0\n",
      "15    A    L     7     1\n",
      "16    A    F     7     2\n",
      "17    A    G     7     3\n",
      "18    A    Y     7     4\n",
      "19    L    L     6     1\n",
      "20    L    F     6     2\n",
      "21    L    G     6     3\n",
      "22    L    Y     6     4\n",
      "23    L    P     6     5\n",
      "24    G    L     5     1\n",
      "25    G    F     5     2\n",
      "26    G    Y     5     4\n",
      "27    P    F     4     2\n",
      "28    P    G     4     3\n",
      "  Res1 Res2  Off1  Off2  Distance\n",
      "0    P    Y    11     4   3.14262\n",
      "1    G    V     8     6   3.83503\n",
      "Empty DataFrame\n",
      "Columns: [Res1, Res2, Off1, Off2, Distance]\n",
      "Index: []\n"
     ]
    },
    {
     "data": {
      "image/png": "[encoded data removed]",
      "text/plain": [
       "<Figure size 1080x720 with 3 Axes>"
      ]
     },
     "metadata": {
      "needs_background": "light"
     },
     "output_type": "display_data"
    },
    {
     "name": "stdout",
     "output_type": "stream",
     "text": [
      "2BNQ_C-E.txt\n",
      "CASSYVGNTGELFF SLLMWITQV\n",
      "   Res1 Res2  Off1  Off2\n",
      "0     E    L    10     1\n",
      "1     E    W    10     4\n",
      "2     G    S     9     0\n",
      "3     G    M     9     3\n",
      "4     G    W     9     4\n",
      "5     T    L     8     1\n",
      "6     T    L     8     2\n",
      "7     T    M     8     3\n",
      "8     T    W     8     4\n",
      "9     T    I     8     5\n",
      "10    T    Q     8     7\n",
      "11    N    L     7     1\n",
      "12    N    L     7     2\n",
      "13    N    M     7     3\n",
      "14    N    W     7     4\n",
      "15    N    I     7     5\n",
      "16    N    T     7     6\n",
      "17    G    S     6     0\n",
      "18    G    L     6     1\n",
      "19    G    M     6     3\n",
      "20    G    I     6     5\n",
      "21    G    T     6     6\n",
      "22    V    S     5     0\n",
      "23    V    L     5     1\n",
      "24    Y    M     4     3\n",
      "  Res1 Res2  Off1  Off2  Distance\n",
      "0    N    T     7     6   2.81763\n",
      "1    V    I     5     5   2.85087\n",
      "2    V    W     5     4   3.14438\n",
      "3    G    I     6     5   3.20004\n",
      "4    G    W     6     4   3.53912\n",
      "5    Y    Q     4     7   3.54080\n",
      "6    V    M     5     3   3.76975\n",
      "7    G    T     6     6   3.78835\n",
      "8    Y    W     4     4   3.93265\n",
      "  Res1 Res2  Off1  Off2  Distance\n",
      "0    N    T     7     6   2.81763\n",
      "1    G    I     6     5   3.20004\n",
      "2    G    T     6     6   3.78835\n"
     ]
    },
    {
     "data": {
      "image/png": "[encoded data removed]",
      "text/plain": [
       "<Figure size 1080x720 with 3 Axes>"
      ]
     },
     "metadata": {
      "needs_background": "light"
     },
     "output_type": "display_data"
    },
    {
     "name": "stdout",
     "output_type": "stream",
     "text": [
      "2BNR_C-E.txt\n",
      "CASSYVGNTGELFF SLLMWITQC\n",
      "   Res1 Res2  Off1  Off2\n",
      "0     E    I    10     5\n",
      "1     G    L     9     1\n",
      "2     G    L     9     2\n",
      "3     G    M     9     3\n",
      "4     G    W     9     4\n",
      "5     T    L     8     1\n",
      "6     T    L     8     2\n",
      "7     T    M     8     3\n",
      "8     T    W     8     4\n",
      "9     T    I     8     5\n",
      "10    N    L     7     1\n",
      "11    N    L     7     2\n",
      "12    N    M     7     3\n",
      "13    N    W     7     4\n",
      "14    N    T     7     6\n",
      "15    G    S     6     0\n",
      "16    G    L     6     1\n",
      "17    G    L     6     2\n",
      "18    G    M     6     3\n",
      "19    G    W     6     4\n",
      "20    G    I     6     5\n",
      "21    V    L     5     1\n",
      "22    V    L     5     2\n",
      "23    V    M     5     3\n",
      "24    V    I     5     5\n",
      "  Res1 Res2  Off1  Off2  Distance\n",
      "0    N    T     7     6   2.78764\n",
      "1    V    I     5     5   2.87486\n",
      "2    V    W     5     4   3.19545\n",
      "3    G    I     6     5   3.40202\n",
      "4    G    W     6     4   3.50872\n",
      "5    Y    Q     4     7   3.51621\n",
      "6    G    T     6     6   3.76812\n",
      "7    V    M     5     3   3.87644\n",
      "8    Y    W     4     4   3.98991\n",
      "  Res1 Res2  Off1  Off2  Distance\n",
      "0    N    T     7     6   2.78764\n",
      "1    G    W     6     4   3.50872\n",
      "2    G    I     6     5   3.40202\n",
      "3    V    M     5     3   3.87644\n",
      "4    V    I     5     5   2.87486\n"
     ]
    },
    {
     "data": {
      "image/png": "[encoded data removed]",
      "text/plain": [
       "<Figure size 1080x720 with 3 Axes>"
      ]
     },
     "metadata": {
      "needs_background": "light"
     },
     "output_type": "display_data"
    },
    {
     "name": "stdout",
     "output_type": "stream",
     "text": [
      "2ESV_P-E.txt\n",
      "CASSQDRDTQYF VMAPRTLIL\n",
      "   Res1 Res2  Off1  Off2\n",
      "0     Q    M     9     1\n",
      "1     Q    P     9     3\n",
      "2     Q    R     9     4\n",
      "3     T    M     8     1\n",
      "4     T    A     8     2\n",
      "5     T    P     8     3\n",
      "6     T    R     8     4\n",
      "7     D    A     7     2\n",
      "8     D    P     7     3\n",
      "9     D    R     7     4\n",
      "10    R    V     6     0\n",
      "11    R    M     6     1\n",
      "12    R    A     6     2\n",
      "13    R    P     6     3\n",
      "14    R    T     6     5\n",
      "15    D    P     5     3\n",
      "16    D    R     5     4\n",
      "17    Q    A     4     2\n",
      "18    Q    P     4     3\n",
      "19    Q    R     4     4\n",
      "20    Q    T     4     5\n",
      "21    S    A     3     2\n",
      "  Res1 Res2  Off1  Off2  Distance\n",
      "0    R    T     6     5   2.90445\n",
      "1    D    R     5     4   3.10002\n",
      "2    D    R     7     4   3.13537\n",
      "3    R    R     6     4   3.32098\n",
      "4    R    I     6     7   3.52459\n",
      "  Res1 Res2  Off1  Off2  Distance\n",
      "0    D    R     7     4   3.13537\n",
      "1    R    T     6     5   2.90445\n",
      "2    D    R     5     4   3.10002\n"
     ]
    },
    {
     "data": {
      "image/png": "[encoded data removed]",
      "text/plain": [
       "<Figure size 1080x720 with 3 Axes>"
      ]
     },
     "metadata": {
      "needs_background": "light"
     },
     "output_type": "display_data"
    },
    {
     "name": "stdout",
     "output_type": "stream",
     "text": [
      "2F53_C-E.txt\n",
      "CASSYVGNTGELFF SLLMWITQC\n",
      "   Res1 Res2  Off1  Off2\n",
      "0     E    L    10     2\n",
      "1     E    W    10     4\n",
      "2     G    L     9     1\n",
      "3     G    M     9     3\n",
      "4     G    W     9     4\n",
      "5     T    S     8     0\n",
      "6     T    L     8     2\n",
      "7     T    M     8     3\n",
      "8     T    W     8     4\n",
      "9     T    I     8     5\n",
      "10    T    T     8     6\n",
      "11    N    S     7     0\n",
      "12    N    L     7     1\n",
      "13    N    L     7     2\n",
      "14    N    M     7     3\n",
      "15    N    W     7     4\n",
      "16    N    I     7     5\n",
      "17    N    T     7     6\n",
      "18    G    S     6     0\n",
      "19    G    L     6     1\n",
      "20    G    W     6     4\n",
      "21    G    I     6     5\n",
      "22    V    L     5     1\n",
      "23    V    I     5     5\n",
      "24    Y    I     4     5\n",
      "  Res1 Res2  Off1  Off2  Distance\n",
      "0    V    I     5     5   2.77627\n",
      "1    N    T     7     6   2.78791\n",
      "2    V    W     5     4   3.20726\n",
      "3    G    I     6     5   3.43220\n",
      "4    Y    Q     4     7   3.44754\n",
      "5    G    W     6     4   3.52580\n",
      "6    G    T     6     6   3.78183\n",
      "7    Y    W     4     4   3.89531\n",
      "8    V    M     5     3   3.94539\n",
      "9    G    W     9     4   4.06346\n",
      "  Res1 Res2  Off1  Off2  Distance\n",
      "0    G    W     9     4   4.06346\n",
      "1    N    T     7     6   2.78791\n",
      "2    G    W     6     4   3.52580\n",
      "3    G    I     6     5   3.43220\n",
      "4    V    I     5     5   2.77627\n"
     ]
    },
    {
     "data": {
      "image/png": "[encoded data removed]",
      "text/plain": [
       "<Figure size 1080x720 with 3 Axes>"
      ]
     },
     "metadata": {
      "needs_background": "light"
     },
     "output_type": "display_data"
    },
    {
     "name": "stdout",
     "output_type": "stream",
     "text": [
      "2F54_C-E.txt\n",
      "CASSYVGNTGELFF SLLMWITQC\n",
      "   Res1 Res2  Off1  Off2\n",
      "0     E    L    10     1\n",
      "1     G    S     9     0\n",
      "2     G    M     9     3\n",
      "3     G    W     9     4\n",
      "4     T    L     8     2\n",
      "5     T    M     8     3\n",
      "6     T    W     8     4\n",
      "7     T    I     8     5\n",
      "8     T    T     8     6\n",
      "9     N    S     7     0\n",
      "10    N    L     7     1\n",
      "11    N    M     7     3\n",
      "12    N    W     7     4\n",
      "13    N    I     7     5\n",
      "14    N    T     7     6\n",
      "15    G    L     6     1\n",
      "16    G    L     6     2\n",
      "17    G    M     6     3\n",
      "18    G    W     6     4\n",
      "19    G    I     6     5\n",
      "20    V    S     5     0\n",
      "21    V    L     5     1\n",
      "22    V    L     5     2\n",
      "23    V    M     5     3\n",
      "24    V    I     5     5\n",
      "  Res1 Res2  Off1  Off2  Distance\n",
      "0    N    T     7     6   2.68829\n",
      "1    V    I     5     5   3.24722\n",
      "2    V    W     5     4   3.29622\n",
      "3    G    I     6     5   3.45146\n",
      "4    Y    Q     4     7   3.63289\n",
      "5    G    W     6     4   3.73073\n",
      "6    G    T     6     6   3.80848\n",
      "7    V    M     5     3   3.94659\n",
      "  Res1 Res2  Off1  Off2  Distance\n",
      "0    N    T     7     6   2.68829\n",
      "1    G    W     6     4   3.73073\n",
      "2    G    I     6     5   3.45146\n",
      "3    V    M     5     3   3.94659\n",
      "4    V    I     5     5   3.24722\n"
     ]
    },
    {
     "data": {
      "image/png": "[encoded data removed]",
      "text/plain": [
       "<Figure size 1080x720 with 3 Axes>"
      ]
     },
     "metadata": {
      "needs_background": "light"
     },
     "output_type": "display_data"
    },
    {
     "name": "stdout",
     "output_type": "stream",
     "text": [
      "2GJ6_C-E.txt\n",
      "CASRPGLAGGRPEQYF LLFGKPVYV\n",
      "   Res1 Res2  Off1  Off2\n",
      "0     P    L    11     1\n",
      "1     P    G    11     3\n",
      "2     R    L    10     1\n",
      "3     R    P    10     5\n",
      "4     G    L     9     0\n",
      "5     G    F     9     2\n",
      "6     G    K     9     4\n",
      "7     G    V     9     6\n",
      "8     G    L     8     0\n",
      "9     G    L     8     1\n",
      "10    G    F     8     2\n",
      "11    G    G     8     3\n",
      "12    G    K     8     4\n",
      "13    A    L     7     0\n",
      "14    A    F     7     2\n",
      "15    A    G     7     3\n",
      "16    A    K     7     4\n",
      "17    A    P     7     5\n",
      "18    L    F     6     2\n",
      "19    L    G     6     3\n",
      "20    L    V     6     6\n",
      "21    G    L     5     0\n",
      "22    G    L     5     1\n",
      "23    G    F     5     2\n",
      "24    G    G     5     3\n",
      "25    P    F     4     2\n",
      "26    P    G     4     3\n",
      "27    P    P     4     5\n",
      "28    R    G     3     3\n",
      "  Res1 Res2  Off1  Off2  Distance\n",
      "0    G    K     5     4   2.88673\n",
      "1    L    Y     6     7   3.14089\n",
      "2    L    V     6     6   3.35233\n",
      "3    P    K    11     4   3.76709\n",
      "4    A    V     7     6   3.89097\n",
      "5    L    P     6     5   3.92649\n",
      "6    A    Y     7     7   3.96635\n",
      "7    G    V     8     6   4.14315\n",
      "  Res1 Res2  Off1  Off2  Distance\n",
      "0    L    V     6     6   3.35233\n"
     ]
    },
    {
     "data": {
      "image/png": "[encoded data removed]",
      "text/plain": [
       "<Figure size 1080x720 with 3 Axes>"
      ]
     },
     "metadata": {
      "needs_background": "light"
     },
     "output_type": "display_data"
    },
    {
     "name": "stdout",
     "output_type": "stream",
     "text": [
      "2NX5_C-E.txt\n",
      "CATGTGDSNQPQHF EPLPQGQLTAY\n",
      "   Res1 Res2  Off1  Off2\n",
      "0     Q    L     9     2\n",
      "1     Q    P     9     3\n",
      "2     Q    Q     9     4\n",
      "3     N    P     8     1\n",
      "4     N    L     8     2\n",
      "5     N    P     8     3\n",
      "6     N    Q     8     4\n",
      "7     S    L     7     2\n",
      "8     S    P     7     3\n",
      "9     S    Q     7     4\n",
      "10    S    G     7     5\n",
      "11    D    P     6     1\n",
      "12    D    L     6     2\n",
      "13    D    P     6     3\n",
      "14    D    Q     6     4\n",
      "15    D    G     6     5\n",
      "16    D    Q     6     6\n",
      "17    D    L     6     7\n",
      "18    G    P     5     1\n",
      "19    G    L     5     2\n",
      "20    G    P     5     3\n",
      "21    G    Q     5     4\n",
      "22    G    G     5     5\n",
      "23    G    Q     5     6\n",
      "24    T    L     4     2\n",
      "25    T    Q     4     4\n",
      "26    T    G     4     5\n",
      "27    G    Q     3     4\n",
      "28    G    G     3     5\n",
      "29    T    P     2     3\n",
      "30    T    Q     2     4\n",
      "  Res1 Res2  Off1  Off2  Distance\n",
      "0    D    Q     6     6   2.37391\n",
      "1    T    Q     4     6   3.15038\n",
      "2    D    Q     6     4   3.41524\n",
      "3    G    Q     5     4   3.45132\n",
      "4    D    L     6     7   3.70076\n",
      "5    T    L     4     7   3.80703\n",
      "6    T    G     4     5   3.86715\n",
      "7    G    Q     3     6   3.99999\n",
      "8    Q    L     9     7   4.09819\n",
      "  Res1 Res2  Off1  Off2  Distance\n",
      "0    D    Q     6     4   3.41524\n",
      "1    D    Q     6     6   2.37391\n",
      "2    D    L     6     7   3.70076\n",
      "3    G    Q     5     4   3.45132\n",
      "4    T    G     4     5   3.86715\n"
     ]
    },
    {
     "data": {
      "image/png": "[encoded data removed]",
      "text/plain": [
       "<Figure size 1080x720 with 3 Axes>"
      ]
     },
     "metadata": {
      "needs_background": "light"
     },
     "output_type": "display_data"
    },
    {
     "name": "stdout",
     "output_type": "stream",
     "text": [
      "2P5E_C-E.txt\n",
      "CASSYLGNTGELFF SLLMWITQC\n",
      "   Res1 Res2  Off1  Off2\n",
      "0     E    W    10     4\n",
      "1     G    S     9     0\n",
      "2     G    L     9     1\n",
      "3     G    L     9     2\n",
      "4     G    M     9     3\n",
      "5     G    W     9     4\n",
      "6     T    L     8     2\n",
      "7     T    M     8     3\n",
      "8     T    W     8     4\n",
      "9     T    I     8     5\n",
      "10    N    S     7     0\n",
      "11    N    L     7     1\n",
      "12    N    M     7     3\n",
      "13    N    W     7     4\n",
      "14    N    I     7     5\n",
      "15    N    T     7     6\n",
      "16    G    L     6     1\n",
      "17    G    L     6     2\n",
      "18    G    M     6     3\n",
      "19    G    I     6     5\n",
      "20    L    S     5     0\n",
      "21    L    L     5     1\n",
      "22    L    M     5     3\n",
      "23    L    I     5     5\n",
      "24    Y    M     4     3\n",
      "  Res1 Res2  Off1  Off2  Distance\n",
      "0    N    T     7     6   2.66963\n",
      "1    L    I     5     5   3.00185\n",
      "2    Y    Q     4     7   3.40190\n",
      "3    L    W     5     4   3.44250\n",
      "4    G    I     6     5   3.44322\n",
      "5    G    W     6     4   3.58041\n",
      "6    G    T     6     6   3.65971\n",
      "7    Y    W     4     4   3.97680\n",
      "  Res1 Res2  Off1  Off2  Distance\n",
      "0    N    T     7     6   2.66963\n",
      "1    G    I     6     5   3.44322\n",
      "2    L    I     5     5   3.00185\n"
     ]
    },
    {
     "data": {
      "image/png": "[encoded data removed]",
      "text/plain": [
       "<Figure size 1080x720 with 3 Axes>"
      ]
     },
     "metadata": {
      "needs_background": "light"
     },
     "output_type": "display_data"
    },
    {
     "name": "stdout",
     "output_type": "stream",
     "text": [
      "2P5W_C-E.txt\n",
      "CASSYLGNTGELFF SLLMWITQC\n",
      "   Res1 Res2  Off1  Off2\n",
      "0     E    L    10     1\n",
      "1     E    W    10     4\n",
      "2     G    L     9     1\n",
      "3     G    M     9     3\n",
      "4     G    W     9     4\n",
      "5     T    L     8     1\n",
      "6     T    L     8     2\n",
      "7     T    M     8     3\n",
      "8     T    W     8     4\n",
      "9     T    I     8     5\n",
      "10    N    S     7     0\n",
      "11    N    L     7     1\n",
      "12    N    L     7     2\n",
      "13    N    M     7     3\n",
      "14    N    W     7     4\n",
      "15    N    I     7     5\n",
      "16    G    L     6     1\n",
      "17    G    L     6     2\n",
      "18    G    M     6     3\n",
      "19    G    W     6     4\n",
      "20    G    I     6     5\n",
      "21    L    S     5     0\n",
      "22    L    L     5     1\n",
      "23    L    L     5     2\n",
      "24    L    I     5     5\n",
      "  Res1 Res2  Off1  Off2  Distance\n",
      "0    N    T     7     6   2.66039\n",
      "1    L    I     5     5   2.97463\n",
      "2    L    W     5     4   3.45825\n",
      "3    G    I     6     5   3.49971\n",
      "4    Y    Q     4     7   3.51537\n",
      "5    G    W     6     4   3.51713\n",
      "6    G    T     6     6   3.60702\n",
      "7    Y    W     4     4   3.92066\n",
      "  Res1 Res2  Off1  Off2  Distance\n",
      "0    G    W     6     4   3.51713\n",
      "1    G    I     6     5   3.49971\n",
      "2    L    I     5     5   2.97463\n"
     ]
    },
    {
     "data": {
      "image/png": "[encoded data removed]",
      "text/plain": [
       "<Figure size 1080x720 with 3 Axes>"
      ]
     },
     "metadata": {
      "needs_background": "light"
     },
     "output_type": "display_data"
    },
    {
     "name": "stdout",
     "output_type": "stream",
     "text": [
      "2PYE_C-E.txt\n",
      "CASSYLGNTGELFF SLLMWITQC\n",
      "   Res1 Res2  Off1  Off2\n",
      "0     E    L    10     1\n",
      "1     E    M    10     3\n",
      "2     G    L     9     1\n",
      "3     G    M     9     3\n",
      "4     G    W     9     4\n",
      "5     G    I     9     5\n",
      "6     T    L     8     1\n",
      "7     T    L     8     2\n",
      "8     T    M     8     3\n",
      "9     T    W     8     4\n",
      "10    T    I     8     5\n",
      "11    N    L     7     1\n",
      "12    N    L     7     2\n",
      "13    N    M     7     3\n",
      "14    G    S     6     0\n",
      "15    G    L     6     1\n",
      "16    G    L     6     2\n",
      "17    G    M     6     3\n",
      "18    G    I     6     5\n",
      "19    L    L     5     1\n",
      "20    L    M     5     3\n",
      "21    L    W     5     4\n",
      "22    L    I     5     5\n",
      "23    Y    L     4     1\n",
      "24    Y    M     4     3\n",
      "  Res1 Res2  Off1  Off2  Distance\n",
      "0    N    T     7     6   2.87531\n",
      "1    L    I     5     5   2.99446\n",
      "2    G    W     6     4   3.47115\n",
      "3    G    I     6     5   3.47787\n",
      "4    L    W     5     4   3.50155\n",
      "5    Y    Q     4     7   3.57920\n",
      "6    G    T     6     6   3.86268\n",
      "7    Y    W     4     4   3.91757\n",
      "  Res1 Res2  Off1  Off2  Distance\n",
      "0    G    I     6     5   3.47787\n",
      "1    L    W     5     4   3.50155\n",
      "2    L    I     5     5   2.99446\n"
     ]
    },
    {
     "data": {
      "image/png": "[encoded data removed]",
      "text/plain": [
       "<Figure size 1080x720 with 3 Axes>"
      ]
     },
     "metadata": {
      "needs_background": "light"
     },
     "output_type": "display_data"
    },
    {
     "name": "stdout",
     "output_type": "stream",
     "text": [
      "2VLJ_C-E.txt\n",
      "CASSSRSSYEQYF GILGFVFTL\n",
      "   Res1 Res2  Off1  Off2\n",
      "0     Q    L    10     2\n",
      "1     E    I     9     1\n",
      "2     E    L     9     2\n",
      "3     Y    I     8     1\n",
      "4     Y    L     8     2\n",
      "5     Y    G     8     3\n",
      "6     Y    F     8     4\n",
      "7     S    I     7     1\n",
      "8     S    L     7     2\n",
      "9     S    G     7     3\n",
      "10    S    F     7     4\n",
      "11    S    V     7     5\n",
      "12    S    G     6     0\n",
      "13    S    I     6     1\n",
      "14    S    L     6     2\n",
      "15    S    G     6     3\n",
      "16    S    F     6     4\n",
      "17    R    G     5     0\n",
      "18    R    I     5     1\n",
      "19    R    L     5     2\n",
      "20    R    V     5     5\n",
      "21    S    V     4     5\n",
      "22    S    F     3     4\n",
      "23    S    V     3     5\n",
      "  Res1 Res2  Off1  Off2  Distance\n",
      "0    S    V     6     5   3.03096\n",
      "1    R    F     5     4   3.90131\n",
      "2    S    F     7     4   3.94516\n",
      "  Res1 Res2  Off1  Off2  Distance\n",
      "0    S    F     7     4   3.94516\n"
     ]
    },
    {
     "data": {
      "image/png": "[encoded data removed]",
      "text/plain": [
       "<Figure size 1080x720 with 3 Axes>"
      ]
     },
     "metadata": {
      "needs_background": "light"
     },
     "output_type": "display_data"
    },
    {
     "name": "stdout",
     "output_type": "stream",
     "text": [
      "2VLK_C-E.txt\n",
      "CASSSRSSYEQYF GILGFVFTL\n",
      "   Res1 Res2  Off1  Off2\n",
      "0     Q    I    10     1\n",
      "1     E    I     9     1\n",
      "2     E    L     9     2\n",
      "3     E    F     9     4\n",
      "4     Y    I     8     1\n",
      "5     Y    L     8     2\n",
      "6     Y    G     8     3\n",
      "7     Y    F     8     4\n",
      "8     Y    V     8     5\n",
      "9     S    I     7     1\n",
      "10    S    L     7     2\n",
      "11    S    G     7     3\n",
      "12    S    F     7     4\n",
      "13    S    V     7     5\n",
      "14    S    I     6     1\n",
      "15    S    L     6     2\n",
      "16    S    G     6     3\n",
      "17    S    F     6     4\n",
      "18    S    V     6     5\n",
      "19    R    G     5     0\n",
      "20    R    V     5     5\n",
      "21    S    V     4     5\n",
      "22    S    F     3     4\n",
      "23    S    L     2     2\n",
      "  Res1 Res2  Off1  Off2  Distance\n",
      "0    S    V     6     5   3.00551\n",
      "1    R    F     5     6   4.18101\n",
      "  Res1 Res2  Off1  Off2  Distance\n",
      "0    S    V     6     5   3.00551\n"
     ]
    },
    {
     "data": {
      "image/png": "[encoded data removed]",
      "text/plain": [
       "<Figure size 1080x720 with 3 Axes>"
      ]
     },
     "metadata": {
      "needs_background": "light"
     },
     "output_type": "display_data"
    },
    {
     "name": "stdout",
     "output_type": "stream",
     "text": [
      "2VLR_C-E.txt\n",
      "CASSSRASYEQYF GILGFVFTL\n",
      "   Res1 Res2  Off1  Off2\n",
      "0     Q    L    10     2\n",
      "1     E    I     9     1\n",
      "2     E    L     9     2\n",
      "3     E    F     9     4\n",
      "4     Y    I     8     1\n",
      "5     Y    L     8     2\n",
      "6     Y    G     8     3\n",
      "7     Y    F     8     4\n",
      "8     Y    V     8     5\n",
      "9     Y    T     8     7\n",
      "10    S    I     7     1\n",
      "11    S    L     7     2\n",
      "12    S    G     7     3\n",
      "13    S    F     7     4\n",
      "14    S    V     7     5\n",
      "15    A    I     6     1\n",
      "16    A    L     6     2\n",
      "17    A    G     6     3\n",
      "18    R    G     5     0\n",
      "19    R    I     5     1\n",
      "20    R    L     5     2\n",
      "21    R    V     5     5\n",
      "22    S    V     4     5\n",
      "23    S    F     4     6\n",
      "  Res1 Res2  Off1  Off2  Distance\n",
      "0    S    F     7     4   3.96672\n",
      "1    R    F     5     6   4.03739\n",
      "  Res1 Res2  Off1  Off2  Distance\n",
      "0    S    F     7     4   3.96672\n"
     ]
    },
    {
     "data": {
      "image/png": "[encoded data removed]",
      "text/plain": [
       "<Figure size 1080x720 with 3 Axes>"
      ]
     },
     "metadata": {
      "needs_background": "light"
     },
     "output_type": "display_data"
    },
    {
     "name": "stdout",
     "output_type": "stream",
     "text": [
      "2YPL_C-E.txt\n",
      "CASTGSYGYTF KAFSPEVIPMF\n",
      "   Res1 Res2  Off1  Off2\n",
      "0     F    F    10     2\n",
      "1     T    S     9     3\n",
      "2     T    V     9     6\n",
      "3     Y    F     8     2\n",
      "4     Y    P     8     4\n",
      "5     G    F     7     2\n",
      "6     G    S     7     3\n",
      "7     G    P     7     4\n",
      "8     Y    S     6     3\n",
      "9     Y    P     6     4\n",
      "10    S    A     5     1\n",
      "11    S    F     5     2\n",
      "12    S    S     5     3\n",
      "13    S    P     5     4\n",
      "14    S    E     5     5\n",
      "15    G    F     4     2\n",
      "16    G    S     4     3\n",
      "17    G    I     4     7\n",
      "18    T    S     3     3\n",
      "19    T    P     3     4\n",
      "20    T    E     3     5\n",
      "21    S    A     2     1\n",
      "22    S    S     2     3\n",
      "23    A    P     1     4\n",
      "  Res1 Res2  Off1  Off2  Distance\n",
      "0    S    V     5     6   3.53343\n",
      "1    Y    V     6     6   3.59746\n",
      "2    Y    E     6     5   4.04620\n",
      "Empty DataFrame\n",
      "Columns: [Res1, Res2, Off1, Off2, Distance]\n",
      "Index: []\n"
     ]
    },
    {
     "data": {
      "image/png": "[encoded data removed]",
      "text/plain": [
       "<Figure size 1080x720 with 3 Axes>"
      ]
     },
     "metadata": {
      "needs_background": "light"
     },
     "output_type": "display_data"
    }
   ],
   "source": [
    "################\n",
    "import scipy.stats as stats\n",
    "\n",
    "obs = []\n",
    "exp = []\n",
    "\n",
    "################\n",
    "data_3D = [] \n",
    "\n",
    "\n",
    "baseline = tf.zeros(shape=(20,11,4))\n",
    "integrated_gradients = saliency.IntegratedGradients()\n",
    "\n",
    "\n",
    "for i, comp in comps.iterrows():\n",
    "    \n",
    "    # load contact txt file\n",
    "    contacts = pd.read_csv('./contacts/' + str(comp['contact_file']), delimiter = \"\\t\")\n",
    "    print(str(comp['contact_file']))\n",
    "    # convert mappings\n",
    "    contacts.replace({\"ResNum2\": mappings[i]}, inplace = True)\n",
    "    contacts['ResNum2'] = (contacts['ResNum2'] - comp['CDR3_start']).astype('int32')\n",
    "    contacts['ResNum1'] = (contacts['ResNum1'] - 1).astype('int32')\n",
    "    \n",
    "    best = pd.DataFrame({'Res1': contacts['Res2'].tolist(),\n",
    "                         'Res2': contacts['Res1'].tolist(),\n",
    "                         'Off1': contacts['ResNum2'].tolist(),\n",
    "                         'Off2': contacts['ResNum1'].tolist(),\n",
    "                        'Distance': contacts['Distance'].tolist()}).sort_values(by='Distance')\n",
    "    \n",
    "    # extract relevant pairs\n",
    "    im = analysis_3D[i]\n",
    "    \n",
    "\n",
    "    # Compute the vanilla mask.\n",
    "    \n",
    "    #vanilla_integrated_gradients_mask_3d = integrated_gradients.GetMask(im, call_model_function, call_model_args, x_steps=40, x_baseline=baseline, batch_size=20)\n",
    "    \n",
    "    \n",
    "    #vanilla_integrated_gradients_mask_3d = guided_ig.GetMask(im, call_model_function, call_model_args, x_steps=25, x_baseline=baseline, max_dist=1.0, fraction=0.5)\n",
    "    \n",
    "    #vanilla_integrated_gradients_mask_3d = gradient_saliency.GetMask(im, call_model_function, call_model_args)\n",
    "    \n",
    "    vanilla_integrated_gradients_mask_3d = gradient_saliency.GetSmoothedMask(im, call_model_function, call_model_args)\n",
    "    \n",
    "    #vanilla_integrated_gradients_mask_3d = blur_ig.GetMask(im, call_model_function, call_model_args, batch_size=20)\n",
    "    \n",
    "    #vanilla_integrated_gradients_mask_3d = integrated_gradients.GetSmoothedMask(im, call_model_function, call_model_args, x_steps=40, x_baseline=baseline, batch_size=10)\n",
    "    \n",
    "    \n",
    "\n",
    "    \n",
    "    \n",
    "    # Call the visualization methods to convert the 3D tensor to 2D grayscale.\n",
    "    vanilla_mask_grayscale = saliency.VisualizeImageGrayscale(vanilla_integrated_gradients_mask_3d)\n",
    "    \n",
    "\n",
    "    im_mask = np.array(im)\n",
    "\n",
    "    mask = (im_mask != 0.0).all(axis=(2))\n",
    "    im_mask = im_mask[(mask == True).any(axis=1),:]\n",
    "    im_mask = im_mask[:,(mask == True).any(axis=0)]\n",
    "\n",
    "    vanilla_mask_grayscale = vanilla_mask_grayscale[(mask == True).any(axis=1),:]\n",
    "    vanilla_mask_grayscale = vanilla_mask_grayscale[:,(mask == True).any(axis=0)]\n",
    "\n",
    "    r_mask = vanilla_mask_grayscale > np.percentile(vanilla_mask_grayscale, 80)\n",
    "    \n",
    "    data_3D = extract_pairs(r_mask, vanilla_mask_grayscale, im_mask,\n",
    "                              comps['cdr3'][i], comps['antigen.epitope'][i])\n",
    "    data_3D = pd.DataFrame(data_3D)\n",
    "    cdr3 = data_3D['cdr3'][0]\n",
    "    epitope = data_3D['epitope'][0] \n",
    "    print(cdr3,epitope)\n",
    "    data_3D.drop(columns = ['cdr3', 'epitope', 'gray_value', 'property1', 'property2', 'property3', 'property4'], inplace = True)\n",
    "    print(data_3D)\n",
    "    \n",
    "    # remove negative values\n",
    "    best.drop(best[best['Off1'] < 0.0].index, inplace=True)\n",
    "    best.drop(best[best['Off2'] < 0.0].index, inplace=True)\n",
    "    # remove 'HOH' value\n",
    "    best.drop(best[best['Res1'] == 'HOH'].index, inplace=True)\n",
    "    best.drop(best[best['Res2'] == 'HOH'].index, inplace=True)\n",
    "    best.drop(best[best['Res2'] == '3IB'].index, inplace=True)\n",
    "    \n",
    "    # drop rows that have offsets that escape the sequences\n",
    "    best.drop(best[best['Off1'] > len(cdr3)].index, inplace=True)\n",
    "    best.drop(best[best['Off2'] > len(epitope)].index, inplace=True)\n",
    "    \n",
    "    best.drop_duplicates(subset=['Res1','Res2','Off1','Off2'],inplace = True)\n",
    "    best.reset_index(drop=True, inplace=True)\n",
    "    print(best)\n",
    "    \n",
    "    found = pd.merge(data_3D, best, on=['Res1','Res2','Off1','Off2'])\n",
    "    print(found)\n",
    "    \n",
    "    \n",
    "    contact_mask = np.zeros(r_mask.shape)\n",
    "    found_mask = np.zeros(r_mask.shape) \n",
    "    for i,el in best.iterrows():\n",
    "        contact_mask[-el['Off1']-1,el['Off2']] = el['Distance']+0.1\n",
    "    for i,el in found.iterrows():\n",
    "        found_mask[-el['Off1']-1,el['Off2']] = el['Distance']+0.1\n",
    "        \n",
    "    ################\n",
    "    exp.append(best.shape[0]/5)\n",
    "    obs.append(found.shape[0])\n",
    "    ################\n",
    "          \n",
    "    max_image = max(best['Distance'])\n",
    "    min_image = min(best['Distance'])\n",
    "    fig,(ax, ax2, ax3) = plt.subplots(1,3, sharex=True, sharey=True)\n",
    "    \n",
    "    im_mask[~r_mask] = 0\n",
    "    img = ax.imshow(im_mask)\n",
    "    \n",
    "    img2 = ax2.imshow(1-(contact_mask-min_image)/(max_image-min_image), cmap=P.cm.gray, vmin=0, vmax=1)\n",
    "    img3 = ax3.imshow(1-(found_mask-min_image)/(max_image-min_image), cmap=P.cm.gray, vmin=0, vmax=1)\n",
    "\n",
    "\n",
    "    ax.set_xticks(np.arange(len(epitope)))\n",
    "    ax.set_yticks(np.arange(len(cdr3)))\n",
    "    ax.set_yticklabels(cdr3[::-1])\n",
    "    ax.set_ylabel('cdr3')\n",
    "    ax.set_xlabel('epitope')\n",
    "    ax.set_xticklabels(epitope)\n",
    "    ax.set_title(\"Pairs chosen by the model\")\n",
    "    ax2.set_title(\"Actual points of contact\")\n",
    "    ax3.set_title(\"Overlapping relevant pairs\")\n",
    "\n",
    "    fig.set_figheight(10)\n",
    "    fig.set_figwidth(15)\n",
    "    plt.show()"
   ]
  },
  {
   "cell_type": "code",
   "execution_count": 66,
   "metadata": {},
   "outputs": [
    {
     "data": {
      "text/plain": [
       "Ttest_indResult(statistic=2.90481509079883, pvalue=0.005959212701783039)"
      ]
     },
     "execution_count": 66,
     "metadata": {},
     "output_type": "execute_result"
    }
   ],
   "source": [
    "scipy.stats.ttest_ind(obs, exp) # ttest to identify if there's a significative difference between the means\n",
    "\n"
   ]
  },
  {
   "cell_type": "code",
   "execution_count": 69,
   "metadata": {},
   "outputs": [
    {
     "name": "stdout",
     "output_type": "stream",
     "text": [
      "[1, 3, 1, 2, 3, 1, 0, 3, 5, 3, 5, 5, 1, 5, 3, 3, 3, 1, 1, 1, 0]\n",
      "[1.6, 1.6, 1.0, 0.8, 1.6, 1.4, 0.4, 1.8, 1.8, 1.0, 2.0, 1.6, 1.6, 1.8, 1.6, 1.6, 1.6, 0.6, 0.4, 0.4, 0.6]\n"
     ]
    }
   ],
   "source": [
    "print(obs)\n",
    "print(exp)"
   ]
  },
  {
   "cell_type": "code",
   "execution_count": null,
   "metadata": {},
   "outputs": [],
   "source": []
  }
 ],
 "metadata": {
  "kernelspec": {
   "display_name": "Python 3",
   "language": "python",
   "name": "python3"
  },
  "language_info": {
   "codemirror_mode": {
    "name": "ipython",
    "version": 3
   },
   "file_extension": ".py",
   "mimetype": "text/x-python",
   "name": "python",
   "nbconvert_exporter": "python",
   "pygments_lexer": "ipython3",
   "version": "3.8.5"
  }
 },
 "nbformat": 4,
 "nbformat_minor": 5
}
